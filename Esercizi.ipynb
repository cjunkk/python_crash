{
 "cells": [
  {
   "cell_type": "markdown",
   "metadata": {},
   "source": [
    "# Esercizi di programmazione in Python"
   ]
  },
  {
   "cell_type": "markdown",
   "metadata": {},
   "source": [
    "## Calcola il Max tra 2 numeri\n",
    "\n",
    "Scrivi una funzione che prende due numeri come parametro e restituisce il più grande tra i due.\n",
    "Per quanto Python disponga di una funzione max(), sei invitato a utilizzare le istruzioni `if`, `elif` ed `else` per la scrittura dell'algoritmo."
   ]
  },
  {
   "cell_type": "code",
   "execution_count": null,
   "metadata": {},
   "outputs": [],
   "source": []
  },
  {
   "cell_type": "markdown",
   "metadata": {},
   "source": [
    "## Calcola il max tra 3 numeri\n",
    "\n",
    "Scrivi una funzione che prende stavolta tre numeri come parametro e restituisce il più grande tra loro!"
   ]
  },
  {
   "cell_type": "code",
   "execution_count": null,
   "metadata": {},
   "outputs": [],
   "source": []
  },
  {
   "cell_type": "markdown",
   "metadata": {},
   "source": [
    "## Somma n elementi di una lista\n",
    "\n",
    "Scrivi una funzione \"sommatrice\" che somma tra loro tutti gli elementi di una lista di numeri."
   ]
  },
  {
   "cell_type": "code",
   "execution_count": null,
   "metadata": {},
   "outputs": [],
   "source": []
  },
  {
   "cell_type": "markdown",
   "metadata": {},
   "source": [
    "## Moltiplica n elementi di una lista\n",
    "\n",
    "Scrivi una funzione \"moltiplicatrice\" che moltiplica tra loro tutti gli elementi di una lista di numeri."
   ]
  },
  {
   "cell_type": "code",
   "execution_count": null,
   "metadata": {},
   "outputs": [],
   "source": []
  },
  {
   "cell_type": "markdown",
   "metadata": {},
   "source": [
    "## Scrivi al contrario\n",
    "\n",
    "Scrivi una funzione a cui passare come parametro una stringa e ti restituisce una versione della stessa stringa al contrario (ad esempio \"abcd\" diventa \"dcba\")."
   ]
  },
  {
   "cell_type": "code",
   "execution_count": null,
   "metadata": {},
   "outputs": [],
   "source": []
  },
  {
   "cell_type": "markdown",
   "metadata": {},
   "source": [
    "## Palindromo o no?\n",
    "\n",
    "Scrivi una funzione a cui viene passata una parola e riconosce se si tratta di un palindromo (parola che si legge ugualmente anche al contrario)."
   ]
  },
  {
   "cell_type": "code",
   "execution_count": null,
   "metadata": {},
   "outputs": [],
   "source": []
  },
  {
   "cell_type": "markdown",
   "metadata": {},
   "source": [
    "## Calcola la lunghezza di una stringa senza usare len()\n",
    "\n",
    "Scrivi una funzione che restituisce la lunghezza di una stringa o lista passata come parametro (in sostanza prova  a scrivere la tua versione della funzione len() )."
   ]
  },
  {
   "cell_type": "code",
   "execution_count": null,
   "metadata": {},
   "outputs": [],
   "source": []
  },
  {
   "cell_type": "markdown",
   "metadata": {},
   "source": [
    "## Generatore di istogrammi\n",
    "\n",
    "Scrivi una funzione che, data una lista di numeri, fornisce in output un istogramma basato su questi numeri, usando un carattere per disegnarlo. Ad esempio, data la lista [3,7,9,5] deve produrre questo grafico con il carattere a:\n",
    "\n",
    "aaa\n",
    "\n",
    "aaaaaaa\n",
    "\n",
    "aaaaaaaaa\n",
    "\n",
    "aaaaa"
   ]
  },
  {
   "cell_type": "code",
   "execution_count": null,
   "metadata": {},
   "outputs": [],
   "source": []
  },
  {
   "cell_type": "markdown",
   "metadata": {},
   "source": [
    "## Conta le lettere di una lista di parole\n",
    "\n",
    "Scrivi una funzione che, data in ingresso una lista A contenente parole, restituisce in output una lista B di interi che rappresentano la lunghezza delle parole contenute in A."
   ]
  },
  {
   "cell_type": "code",
   "execution_count": null,
   "metadata": {},
   "outputs": [],
   "source": []
  },
  {
   "cell_type": "markdown",
   "metadata": {},
   "source": [
    "## Il maggiore tra tutti!\n",
    "\n",
    "Scrivi un programma che, passato come parametro una lista di interi, fornisce in output il maggiore tra i numeri contenuti nella lista."
   ]
  },
  {
   "cell_type": "code",
   "execution_count": null,
   "metadata": {},
   "outputs": [],
   "source": []
  },
  {
   "cell_type": "markdown",
   "metadata": {},
   "source": [
    "## Il linguaggio dei furfanti\n",
    "\n",
    "In Svezia, i bambini giocano spesso utilizzando un linguaggio un pó particolare, detto \"rövarspråket\", che significa \"linguaggio dei furfanti\": consiste nel raddoppiare ogni consonante di una parola e inserire una \"o\" nel mezzo. Ad esempio la parola \"mangiare\" diventa \"momanongogiarore\". Scrivi una funzione in grado di tradurre una parola o frase passata tramite input() in \"rövarspråket\"."
   ]
  },
  {
   "cell_type": "code",
   "execution_count": 1,
   "metadata": {},
   "outputs": [],
   "source": [
    "def rova(arg):\n",
    "    vocali = ['a','e','i','o','u']\n",
    "    new = ''\n",
    "    for a in arg:\n",
    "        if a not in vocali:\n",
    "            new += a+'o'+a\n",
    "        else:\n",
    "            new += a\n",
    "    return new\n",
    "\n"
   ]
  },
  {
   "cell_type": "code",
   "execution_count": 2,
   "metadata": {},
   "outputs": [
    {
     "data": {
      "text/plain": [
       "'poparorolola'"
      ]
     },
     "execution_count": 2,
     "metadata": {},
     "output_type": "execute_result"
    }
   ],
   "source": [
    "rova('parola')"
   ]
  },
  {
   "cell_type": "code",
   "execution_count": null,
   "metadata": {},
   "outputs": [],
   "source": []
  },
  {
   "cell_type": "markdown",
   "metadata": {},
   "source": [
    "## Sei già membro di un gruppo?\n",
    "\n",
    "Scrivi una funzione membro_di() a cui vengono passati un valore e una Lista di valori, e ci dice in output se il valore è presente nella Lista."
   ]
  },
  {
   "cell_type": "code",
   "execution_count": null,
   "metadata": {},
   "outputs": [],
   "source": []
  },
  {
   "cell_type": "markdown",
   "metadata": {},
   "source": [
    "## Il frequenzimetro\n",
    "\n",
    "Scrivi una funzione a cui passare una stringa come parametro, e che restituisce un elenco rappresentante la frequenza di ciscun carattere componente la stringa(ad esempio: data una stringa \"ababcc\", otterremo in risultato a: 2; b: 2; c: 2. Suggerimento: è consigliabile utilizzare un dizionario!"
   ]
  },
  {
   "cell_type": "code",
   "execution_count": null,
   "metadata": {},
   "outputs": [],
   "source": []
  },
  {
   "cell_type": "markdown",
   "metadata": {},
   "source": [
    "## Geometria piana\n",
    "\n",
    "Scrivi una funzione che, a scelta dell'Utente, calcoli l'area di: un Cerchio, un Quadrato, un Rettangolo, un Triangolo."
   ]
  },
  {
   "cell_type": "code",
   "execution_count": null,
   "metadata": {},
   "outputs": [],
   "source": []
  },
  {
   "cell_type": "markdown",
   "metadata": {},
   "source": [
    "## Generatore di password\n",
    "\n",
    "Scrivi una funzione generatrice di password. La funzione deve generare una stringa alfanumerica di 8 caratteri qualora l'utente voglia una password semplice, o di 20 caratteri ascii qualora desideri una password più complicata."
   ]
  },
  {
   "cell_type": "code",
   "execution_count": null,
   "metadata": {},
   "outputs": [],
   "source": []
  },
  {
   "cell_type": "markdown",
   "metadata": {},
   "source": [
    "## Funzione ricorsiva fattoriale\n",
    "\n",
    "Scrivi una funzione Ricorsiva che calcola il fattoriale di un numero dato."
   ]
  },
  {
   "cell_type": "code",
   "execution_count": null,
   "metadata": {},
   "outputs": [],
   "source": []
  },
  {
   "cell_type": "markdown",
   "metadata": {},
   "source": [
    "## La serie di Fibonacci\n",
    "\n",
    "Scrivi una funzione Ricorsiva che restituisce in output i numeri della sequenza di Fibonacci(ciascun numero della serie è la somma dei due numeri nella serie che lo precedono - 1,1,2,3,5,8,13... - ); fa si di richiamare la funzione entro una soglia di numeri imposto dall'utente"
   ]
  },
  {
   "cell_type": "code",
   "execution_count": null,
   "metadata": {},
   "outputs": [],
   "source": []
  },
  {
   "cell_type": "markdown",
   "metadata": {},
   "source": [
    "## Rime\n",
    "\n",
    "Scrivi una semplice funzione \"rimario\", a cui viene passato un elenco di parole, e lo confronta con una parola inserita dall'utente alla ricerca di rime(intese come parole le cui ultime 3 lettere siano uguali alla parola data!)"
   ]
  },
  {
   "cell_type": "code",
   "execution_count": null,
   "metadata": {},
   "outputs": [],
   "source": []
  },
  {
   "cell_type": "markdown",
   "metadata": {},
   "source": [
    "## Ccrittografia ROT-13\n",
    "\n",
    "Il ROT-13 è un semplice cifrario monoalfabetico, in cui ogni lettera del messaggio da cifrare viene sostituita con quella posta 13 posizioni più avanti nell'alfabeto. Scrivi una semplice funzione in grado di criptare una stringa passata, o decriptarla se la stringa è già stata precedentemente codificata."
   ]
  },
  {
   "cell_type": "code",
   "execution_count": null,
   "metadata": {},
   "outputs": [],
   "source": []
  },
  {
   "cell_type": "markdown",
   "metadata": {},
   "source": [
    "## Quanti secondi sono passati?\n",
    "\n",
    "Scrivi una semplice funzione che calcoli in numero di secondi presente in un numero di giorni, ore e minuti passati dall'utente."
   ]
  },
  {
   "cell_type": "code",
   "execution_count": null,
   "metadata": {},
   "outputs": [],
   "source": []
  },
  {
   "cell_type": "markdown",
   "metadata": {},
   "source": [
    "## Unità di misura\n",
    "\n",
    "Scrivi una funzione che, dato in ingresso un valore espresso in Metri, restituisca l'equivalente in Miglia Terrestri, Iarde, Piedi e Pollici."
   ]
  },
  {
   "cell_type": "code",
   "execution_count": null,
   "metadata": {},
   "outputs": [],
   "source": []
  },
  {
   "cell_type": "markdown",
   "metadata": {},
   "source": [
    "## Quanti MB contiene questa cartella?\n",
    "\n",
    "Scrivi una funzione che calcoli la somma delle dimensioni dei file presenti nella cartella in cui si sta operando, e che la restituisca in output espressa in MB."
   ]
  },
  {
   "cell_type": "code",
   "execution_count": null,
   "metadata": {},
   "outputs": [],
   "source": []
  },
  {
   "cell_type": "markdown",
   "metadata": {},
   "source": [
    "## La libreria\n",
    "\n",
    "Scrivi una funzione \"vendi_libri\" che: \n",
    "* Controlla se il libro richiesto è presente sugli scaffali della libreria; \n",
    "* Qualora il libro sia presente, ne decrementa il numero di copie (eventualmente rimuovendo il titolo) e ci segnala che la vendita ha avuto successo; \n",
    "* Se il libro non è disponibile, viene messo in un elenco di libri da ordinare e ci viene comunicato che la vendita non ha avuto successo; \n",
    "* La funzione restituisce valore Booleano True o False in base all'esito della vendita."
   ]
  },
  {
   "cell_type": "code",
   "execution_count": null,
   "metadata": {},
   "outputs": [],
   "source": []
  }
 ],
 "metadata": {
  "kernelspec": {
   "display_name": "Python 2",
   "language": "python",
   "name": "python2"
  },
  "language_info": {
   "codemirror_mode": {
    "name": "ipython",
    "version": 2
   },
   "file_extension": ".py",
   "mimetype": "text/x-python",
   "name": "python",
   "nbconvert_exporter": "python",
   "pygments_lexer": "ipython2",
   "version": "2.7.14"
  }
 },
 "nbformat": 4,
 "nbformat_minor": 2
}
