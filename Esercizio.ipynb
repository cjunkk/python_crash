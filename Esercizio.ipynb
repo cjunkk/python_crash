{
 "cells": [
  {
   "cell_type": "markdown",
   "metadata": {},
   "source": [
    "# Esercizio\n",
    "\n",
    "Creare un nuvo file in modalità. Generare 100 coppie di numeri tali che la x sia compresa nell'intervallo -1/1. La y soddisfi la relazione $y = x^3$. Scrivere quindi le coppie nel file creato e chiudere il file.\n",
    "Aprire di nuovo il file, leggere le coppe di numeri e generare un grafico mettendo anche il titolo, il nome degli asse cartesiani e la legenda \n",
    "\n",
    "**Suggerimenti** \n",
    "* Usare un array numpy con linespace per creare i punti sull'asse x;\n",
    "* Per scrivere il file costruire la stringa per usare il metodo file.writelines()\n",
    "* Quando leggete le righe, separate la stringa usando str.split e convertirei dati da stringa a float."
   ]
  }
 ],
 "metadata": {
  "kernelspec": {
   "display_name": "Python 2",
   "language": "python",
   "name": "python2"
  },
  "language_info": {
   "codemirror_mode": {
    "name": "ipython",
    "version": 2
   },
   "file_extension": ".py",
   "mimetype": "text/x-python",
   "name": "python",
   "nbconvert_exporter": "python",
   "pygments_lexer": "ipython2",
   "version": "2.7.14"
  }
 },
 "nbformat": 4,
 "nbformat_minor": 2
}
