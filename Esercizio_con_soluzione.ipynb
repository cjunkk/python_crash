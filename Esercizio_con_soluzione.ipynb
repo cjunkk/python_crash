{
 "cells": [
  {
   "cell_type": "markdown",
   "metadata": {},
   "source": [
    "# Esercizio\n",
    "\n",
    "Creare un nuvo file in modalità. Generare 100 coppie di numeri tali che la x sia compresa nell'intervallo -1/1. La y soddisfi la relazione $y = x^3$. Scrivere quindi le coppie nel file creato e chiudere il file.\n",
    "Aprire di nuovo il file, leggere le coppe di numeri e generare un grafico mettendo anche il titolo, il nome degli asse cartesiani e la legenda \n",
    "\n",
    "**Suggerimenti** \n",
    "* Usare un array numpy con linespace per creare i punti sull'asse x;\n",
    "* Per scrivere il file costruire la stringa per usare il metodo file.writelines()\n",
    "* Quando leggete le righe, separate la stringa usando str.split e convertirei dati da stringa a float."
   ]
  },
  {
   "cell_type": "markdown",
   "metadata": {},
   "source": [
    "# Svolgimento\n",
    "\n",
    "## Prima parte\n",
    "\n",
    "Generare i dati e scriverli in un file"
   ]
  },
  {
   "cell_type": "code",
   "execution_count": 110,
   "metadata": {},
   "outputs": [],
   "source": [
    "from __future__ import print_function, division\n",
    "import numpy as np\n",
    "from matplotlib import pyplot as plt"
   ]
  },
  {
   "cell_type": "code",
   "execution_count": 111,
   "metadata": {},
   "outputs": [],
   "source": [
    "f = open(\"funzione.txt\", 'w')"
   ]
  },
  {
   "cell_type": "code",
   "execution_count": 112,
   "metadata": {},
   "outputs": [],
   "source": [
    "x = (np.linspace(-1.,1.,100,endpoint=True))"
   ]
  },
  {
   "cell_type": "code",
   "execution_count": 113,
   "metadata": {},
   "outputs": [],
   "source": [
    "y = x**3"
   ]
  },
  {
   "cell_type": "code",
   "execution_count": 114,
   "metadata": {},
   "outputs": [
    {
     "data": {
      "text/plain": [
       "[<matplotlib.lines.Line2D at 0x117090150>]"
      ]
     },
     "execution_count": 114,
     "metadata": {},
     "output_type": "execute_result"
    },
    {
     "data": {
      "image/png": "[encoded data removed]",
      "text/plain": [
       "<Figure size 432x288 with 1 Axes>"
      ]
     },
     "metadata": {},
     "output_type": "display_data"
    }
   ],
   "source": [
    "plt.plot(x,y)"
   ]
  },
  {
   "cell_type": "code",
   "execution_count": 115,
   "metadata": {},
   "outputs": [],
   "source": [
    "#for c, valuex in enumerate(x):\n",
    "for c in range(0,100):\n",
    "    valuex = x[c]\n",
    "    valuey = y[c]\n",
    "    stringa = '{:f} {:f}\\n'.format(valuex,valuey)\n",
    "#    print(stringa)\n",
    "    f.writelines(stringa)"
   ]
  },
  {
   "cell_type": "code",
   "execution_count": 116,
   "metadata": {},
   "outputs": [],
   "source": [
    "f.close()"
   ]
  },
  {
   "cell_type": "markdown",
   "metadata": {},
   "source": [
    "## Seconda parte\n",
    "\n",
    "Leggere i dati e plottarli"
   ]
  },
  {
   "cell_type": "code",
   "execution_count": 117,
   "metadata": {},
   "outputs": [],
   "source": [
    "f = open(\"funzione.txt\", 'r')"
   ]
  },
  {
   "cell_type": "code",
   "execution_count": 118,
   "metadata": {},
   "outputs": [],
   "source": [
    "xlist = []\n",
    "ylist = []\n",
    "punti = f.read().splitlines()\n",
    "for i in punti:\n",
    "    xlist.append(float(i.split()[0]))\n",
    "    ylist.append(float(i.split()[1]))\n",
    "#print(xlist)\n",
    "#print(ylist)"
   ]
  },
  {
   "cell_type": "code",
   "execution_count": 119,
   "metadata": {},
   "outputs": [
    {
     "data": {
      "text/plain": [
       "<matplotlib.legend.Legend at 0x117119750>"
      ]
     },
     "execution_count": 119,
     "metadata": {},
     "output_type": "execute_result"
    },
    {
     "data": {
      "image/png": "[encoded data removed]",
      "text/plain": [
       "<Figure size 432x288 with 1 Axes>"
      ]
     },
     "metadata": {},
     "output_type": "display_data"
    }
   ],
   "source": [
    "plt.plot(xlist,ylist,'o', color = 'red')\n",
    "plt.title('x^3')\n",
    "plt.xlabel('asse x')\n",
    "plt.ylabel('asse y')\n",
    "plt.legend('curva')"
   ]
  },
  {
   "cell_type": "code",
   "execution_count": 120,
   "metadata": {},
   "outputs": [],
   "source": [
    "f.close()"
   ]
  },
  {
   "cell_type": "code",
   "execution_count": 81,
   "metadata": {},
   "outputs": [],
   "source": []
  },
  {
   "cell_type": "code",
   "execution_count": 82,
   "metadata": {},
   "outputs": [],
   "source": []
  },
  {
   "cell_type": "code",
   "execution_count": null,
   "metadata": {},
   "outputs": [],
   "source": []
  },
  {
   "cell_type": "code",
   "execution_count": null,
   "metadata": {},
   "outputs": [],
   "source": []
  }
 ],
 "metadata": {
  "kernelspec": {
   "display_name": "Python 2",
   "language": "python",
   "name": "python2"
  },
  "language_info": {
   "codemirror_mode": {
    "name": "ipython",
    "version": 2
   },
   "file_extension": ".py",
   "mimetype": "text/x-python",
   "name": "python",
   "nbconvert_exporter": "python",
   "pygments_lexer": "ipython2",
   "version": "2.7.14"
  }
 },
 "nbformat": 4,
 "nbformat_minor": 2
}
