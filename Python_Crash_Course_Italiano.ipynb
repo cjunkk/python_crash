{
 "cells": [
  {
   "cell_type": "markdown",
   "metadata": {},
   "source": [
    "## **Breve introduzione all'uso di Python**\n",
    "\n",
    "Questo notebook è stato realizzato per introdurre Python ad un gruppo di studenti di scuola superiore. Abbiamo attinto al Python Crash Course di Lion Krischer ([@krischer](https://github.com/krischer)) e alla guida Python disponibile sul sito [html.it](http://www.html.it/guide/guida-python/) scritta da Stefano Riccio e revisionata e aggiornata da  Ezio Melotti, Andrea Sindoni, e dalla redazione di HTML.it  \n",
    "\n",
    "##### Autori:\n",
    "* Carlo Giunchi (carlo.giunchi@ingv.it)\n",
    "* Spina Cianetti (spina.cianetti@ingv.it)\n",
    "\n",
    "---"
   ]
  },
  {
   "cell_type": "markdown",
   "metadata": {},
   "source": [
    "Questo notebook è una introduzione a Python e in particolare al suo ecosistema scientifico.\n",
    "\n",
    "\n",
    "#### Come usare questo Notebook\n",
    "\n",
    "<img src=\"images/notebook_toolbar.png\" style=\"width:70%\"></img>\n",
    "\n",
    "* `Shift + Enter`: Esegue il comando della cella e salta a quella successiva\n",
    "* `Ctrl/Cmd + Enter`: Esegue il comando della cella e NON salta a quella successiva\n",
    "\n",
    "\n",
    "#### Attenzione\n",
    "\n",
    "L'uso di `Jupiter notebook` è solo un modo di usare Python. In alternativa è possibile scrivere uno script in un file di testo *do_something.py* ed eseguirlo con l'interprete Python:\n",
    "\n",
    "```bash\n",
    "$ python do_something.py\n",
    "```\n",
    "\n",
    "Un'altra alternativa è l'uso interattivo della linea di comando:\n",
    "\n",
    "```bash\n",
    "$ python\n",
    "```\n",
    "oppure\n",
    "\n",
    "```bash\n",
    "$ ipython\n",
    "```\n",
    "\n",
    "## Impostazione del Notebook\n",
    "\n",
    "\n",
    "Per prima cosa: in molti notebook troverai una cella simile alla seguente. **Eseguila sempre!** Fa un paio di cose:\n",
    "\n",
    "* Fai apparire i grafici direttamente nel notebook (altrimenti viene visualizzata in una nuova finestra)\n",
    "* il comando Print funziona così: \n",
    "\n",
    "```python\n",
    "print(\"Hello\")\n",
    "```\n",
    "\n",
    "Questo essenzialmente fa funzionare il notebook sia con Python 2 che con Python 3.\n",
    "\n",
    "* I grafici sembrano un po 'più belli (questo è opzionale).\n"
   ]
  },
  {
   "cell_type": "code",
   "execution_count": 2,
   "metadata": {},
   "outputs": [],
   "source": [
    "# Per far comparire i plot nel notebook.\n",
    "%matplotlib inline                       \n",
    "\n",
    "from __future__ import print_function, division    # Python 2 and 3 adesso sono molto simili\n",
    "import matplotlib.pyplot as plt\n",
    "plt.style.use('ggplot')                            # Stile Matplotlib - plot carini!\n",
    "plt.rcParams['figure.figsize'] = 12, 8             # Ridimensionare i plot"
   ]
  },
  {
   "cell_type": "markdown",
   "metadata": {},
   "source": [
    "---\n",
    "\n",
    "## Link Utili\n",
    "\n",
    "Di seguito una raccolta di risorse che riguardano l'ecosistema scientifico di Python. Coprono un numero elevato di argomenti e pacchetti che vanno oltre quello che riusciremo a vedere oggi.\n",
    "\n",
    "Per ogni questione riguardante una specifica funzionalità di Python potete consultare [Python documenation](http://docs.python.org/).\n",
    " \n",
    "Inoltre, online, sono disponibili un elevato numero di tutorial, libri etc. per Python. Qui ne ho elencati alcuni:\n",
    " \n",
    "* [Pensare in Python](https://www.python.it/doc/libri/#pensare-in-python-come-pensare-da-informatico)\n",
    "* [Learn Python The Hard Way](http://learnpythonthehardway.org/book/)\n",
    "* [Dive Into Python](http://www.diveintopython.net/)\n",
    "* [The Official Python Tutorial](http://docs.python.org/2/tutorial/index.html)\n",
    "* [Think Python Book](http://www.greenteapress.com/thinkpython/thinkpython.html)\n",
    " \n",
    "Per chi conosce Matlab:\n",
    " \n",
    "* [NumPy for Matlab Users Introdution](http://wiki.scipy.org/NumPy_for_Matlab_Users)\n",
    "* [NumPy for Matlab Users Cheatsheet](http://mathesaurus.sourceforge.net/matlab-numpy.html)\n",
    " \n",
    "Altri link ai pacchetti schientifici di Python: \n",
    " \n",
    "* [NumPy Tutorial](http://wiki.scipy.org/Tentative_NumPy_Tutorial)\n",
    "* [Probabilistic Programming and Bayesian Methods for Hackers](http://camdavidsonpilon.github.io/Probabilistic-Programming-and-Bayesian-Methods-for-Hackers/): Great ebook introducing Bayesian methods from an understanding-first point of view with the examples done in Python.\n",
    "* [Python Scientific Lecture Notes](http://scipy-lectures.github.io/): Introduces the basics of scientific Python with lots of examples.\n",
    "* [Python for Signal Processing](http://python-for-signal-processing.blogspot.de/): Free blog which is the basis of a proper book written on the subject.\n",
    "* [Another NumPy Tutorial](http://www.loria.fr/~rougier/teaching/numpy/numpy.html), [Matplotlib Tutorial](http://www.loria.fr/~rougier/teaching/matplotlib/matplotlib.html)\n",
    "\n",
    "Python per la sismologia:\n",
    "* [ObsPy](https://github.com/obspy/obspy/wiki)\n",
    " \n",
    "Per creare plot. Il modo più semplice è cominciare da un esempio che ha caratteristiche simili a quello che volete realizzare e modificarlo. Questi siti sono dei buoni punti di partenza.\n",
    " \n",
    "* [Matplotlib Gallery](http://matplotlib.org/gallery.html)\n",
    "* [ObsPy Gallery](http://docs.obspy.org/gallery.html)\n",
    "* [Basemap Gallery](http://matplotlib.org/basemap/users/examples.html)\n",
    "\n",
    "\n",
    "---"
   ]
  },
  {
   "cell_type": "markdown",
   "metadata": {},
   "source": [
    "## Corso rapido intensivo di Python\n",
    "\n",
    "Questo corso si propone di introdurvi rapidamente all'uso di Python partendo dal presupposto che abbiate già esperienza di programmazione con altri linguaggi. Per imparare è importante che proviate voi stessi. È il solo modo per riuscire!\n",
    "\n",
    "La prima parte è una introduzione al linguaggio Python. In questo tutorial usiamo Python 3 ma tutte le cose possono essere trasferite a Python 2."
   ]
  },
  {
   "cell_type": "markdown",
   "metadata": {},
   "source": [
    "## Tipi di dato\n",
    "\n",
    "Python possiede i classici tipi di dato comuni a tutti i linguaggi di programmazione ma anche altri più potenti e flessibili. In tabella sono riportati alcuni di questi\n",
    "\n",
    "Tipo di dato |\tNome |\tDescrizione | Esempi \n",
    "-------------|-------|--------------|-------\n",
    "**Intero**\t| int\t| Intero di dimensione arbitraria |\t-42, 0, 1200, 999999999999999999\n",
    "**Reale** |\tfloat |\tNumero a virgola mobile |\t3.14, 1.23e-10, 4.0E210\n",
    "**Booleano** |\tbool |\tPer valori veri o falsi\t| True, False\n",
    "**Complesso** |\tcomplex\t| Numeri complessi con parte reale e immaginaria |\t3+4j, 5.0+4.1j, 3j\n",
    "**Stringhe** |\tstr | Usata per rappresentare testo\t| '', 'stefano', \"l'acqua\"\n",
    "**Bytes** |\tbytes |\tUsata per rappresentare bytes |\tb'', b'\\x00\\x01\\x02', b'Python'\n",
    "**Liste** |\tlist |\tUna sequenza mutabile di oggetti |\t[], [1, 2, 3], ['Hello', 'World']\n",
    "**Tuple** |\ttuple |\tUna sequenza immutabile di oggetti | (), (1, 2, 3), ('Python', 3)\n",
    "**Insiemi**\t| set/frozenset |\tUn’insieme di oggetti unici\t| {1, 2, 3}, {'World', 'Hello'}\n",
    "**Dizionari** |\tdict | Una struttura che associa chiavi a valori |\t{}, {'nome': 'Ezio', 'cognome': 'Melotti'}\n"
   ]
  },
  {
   "cell_type": "markdown",
   "metadata": {},
   "source": [
    "## Variabili\n",
    "\n",
    "Per definire una variabile basta usare l'operatore (=) senza bisogno di dichiarare le variabili prima di utilizzarle né di specificarne il tipo. Per esempio:"
   ]
  },
  {
   "cell_type": "code",
   "execution_count": 3,
   "metadata": {},
   "outputs": [],
   "source": [
    "numero = 10\n",
    "stringa = \"Python\"\n",
    "lista = [1, 2, 3,]"
   ]
  },
  {
   "cell_type": "markdown",
   "metadata": {},
   "source": [
    "Per la scelta del **nome** delle variabili valgono le seguenti regole:\n",
    "\n",
    "1. il nome deve cominciare con una lettera o con _ (underscore) e può essere seguita da lettere o numeri\n",
    "+ esistono parole chiave riservate che non possono essere utilizzate: *False, None, True, and, as, assert, break, class, continue, def, del, elif, else, except, finally, for, from, global, if, import, in, is, lambda, nonlocal, not, or, pass, raise, return, try, while, with, yield*\n",
    "+ Python distingue maiuscole e minuscole quindi attenzione!\n",
    "\n",
    "**Nota**: le variabili in python non hanno tipo e possono riferirsi a qualsiasi tipo di oggetto. Quindi è possibile scrivere:"
   ]
  },
  {
   "cell_type": "code",
   "execution_count": null,
   "metadata": {},
   "outputs": [],
   "source": [
    "x = 10\n",
    "x = \"Python\"\n",
    "x = [1, 2, 3]"
   ]
  },
  {
   "cell_type": "markdown",
   "metadata": {},
   "source": [
    "La variabile x viene spostata dall'intero 10, alla stringa \"python\" alla lista [1, 2, 3]."
   ]
  },
  {
   "cell_type": "markdown",
   "metadata": {},
   "source": [
    "## Operatori \n",
    "\n",
    "### Operatori Aritmetici\n",
    "\n",
    "Le operazioni sui numeri sono riportate nella tabella seguente.\n",
    "\n",
    "Operatore |\tDescrizione |\tEsempi\n",
    "----------|-------------|---------\n",
    "+ |\taddizione\t| 10 + 12 → 22\n",
    "– |\tsottrazione\t| 5 - 1 → 4\n",
    "* |\tmoltiplicazione\t| 10 * 12 → 120\n",
    "/ |\tdivisione\t| 9 / 4 → 2.25\n",
    "// |\tdivisione intera\t| 9 // 4 → 2\n",
    "% |\tmodulo (resto della divisione) |\t9 % 4 → 1\n",
    "** | elevazione a potenza | 2** 4 → 16\n",
    "\n",
    "**Nota**: In Python 2 il risultato della divisione tra due int è un int, in Python 3 invece è un float. In Python 2 è possibile ottenere lo stesso comportamento di Python 3 aggiungendo all’inizio del programma la riga from __future__ import division."
   ]
  },
  {
   "cell_type": "markdown",
   "metadata": {},
   "source": [
    "### Operatori di Confronto\n",
    "\n",
    "Sono gli operatori che restituiscono *True* o *False*\n",
    "\n",
    "Operatore |\tDescrizione |\tEsempi\n",
    "----------|-------------|---------\n",
    "== | uguale a            |\t8 == 8 → True \\ 3 == 5 → False\n",
    "!= | diverso da          |\t3 != 5 → True \\ 8 != 8 → False\n",
    "<  | minore di           |\t3 < 5 → True  \\ 5 < 3 → False\n",
    "<= | minore o uguale a   |\t3 <= 5 → True \\ 8 <= 8 → True\n",
    ">  | maggiore di         |\t5 > 3 → True \\ 3 > 5 → False\n",
    ">= | maggiore o uguale a |\t5 >= 3 → True \\ 8 >= 8 → True\n"
   ]
  },
  {
   "cell_type": "markdown",
   "metadata": {},
   "source": [
    "### Operatori Booleani\n",
    "\n",
    "Sono gli operatori *and*, *or* e *not*\n",
    "\n",
    "Operatore |\tDescrizione \n",
    "----------|-------------\n",
    "and\t|  *True* se entrambi gli operandi sono veri, altrimenti *False*\n",
    "or\t|  *True* se almeno uno degli operandi è vero, altrimenti *False*\n",
    "not\t|  *False* se l’operando è vero, *True* se l’operando è falso\n",
    "\n",
    "**Nota**: in Python ogni oggetto è o vero (numeri diversi da *0*, la costante *True*, o contenitori che contengono almeno un elemento) o falso (ovvero il numero *0*, le costanti *False* e *None*, contenitori vuoti). È possibile verificare se un oggetto è vero o falso usando *bool(oggetto)*.\n",
    "\n",
    "Così come avviene in altri linguaggi di programmazione, anche in Python gli operatori *and* e *or* funzionano in modo che, se il primo operando è sufficiente a determinare il risultato, il secondo non viene valutato. Inoltre, entrambi gli operatori ritornano sempre uno dei due operandi."
   ]
  },
  {
   "cell_type": "markdown",
   "metadata": {},
   "source": [
    "## 1. Numeri\n",
    "\n",
    "Python is dynamically typed and assigning something to a variable will give it that type."
   ]
  },
  {
   "cell_type": "code",
   "execution_count": null,
   "metadata": {},
   "outputs": [],
   "source": [
    "# Tre tipi di numeri\n",
    "a = 1             # Interi\n",
    "b = 2.0           # Numeri Razionali Floating Point\n",
    "c = 3.0 + 4j      # Numeri Complessi, notare l'uso di j per la parte complessa"
   ]
  },
  {
   "cell_type": "code",
   "execution_count": null,
   "metadata": {},
   "outputs": [],
   "source": [
    "# L'aritmetica funziona come ci si aspetta.\n",
    "# Passare da int -> float -> complex\n",
    "d = a + b         # (int + float = float)\n",
    "print(d)"
   ]
  },
  {
   "cell_type": "code",
   "execution_count": null,
   "metadata": {},
   "outputs": [],
   "source": [
    "e = c ** 2        # c elevato alla seconda, effettua una moltiplicazione complessa\n",
    "print(e)"
   ]
  },
  {
   "cell_type": "code",
   "execution_count": null,
   "metadata": {},
   "outputs": [],
   "source": [
    "f = int(10.6)     # conversione esplicita di un float in un int\n",
    "print(f)"
   ]
  },
  {
   "cell_type": "code",
   "execution_count": 4,
   "metadata": {},
   "outputs": [
    {
     "name": "stdout",
     "output_type": "stream",
     "text": [
      "3.0\n",
      "(-7+24j)\n",
      "10\n",
      "20.0\n"
     ]
    }
   ],
   "source": [
    "g = float(20)     # conversione esplicita di un int in un float\n",
    "print(g)"
   ]
  },
  {
   "cell_type": "markdown",
   "metadata": {},
   "source": [
    "## 2. Stringhe"
   ]
  },
  {
   "cell_type": "markdown",
   "metadata": {},
   "source": [
    "### 2.1 Dichiarazione di una stringa\n",
    "\n",
    "Per dichiarare una stringa basta semplicemente racchiudere un testo tra apici singoli ('') o doppi (\"\") oppure all'interno del triplo apice singolo (''' '''). Le stringhe, così come le liste o le tuple, sono un tipo particolare di sequenze e perciò supportano tutte le operazioni comuni alle sequenze."
   ]
  },
  {
   "cell_type": "code",
   "execution_count": null,
   "metadata": {},
   "outputs": [],
   "source": [
    "# Esempi di stringhe\n",
    "bevanda = \"L'acqua\"\n",
    "print(bevanda)"
   ]
  },
  {
   "cell_type": "code",
   "execution_count": null,
   "metadata": {},
   "outputs": [],
   "source": [
    "frase = 'Il bambino chiese: \"Acqua\"'\n",
    "print (frase)"
   ]
  },
  {
   "cell_type": "code",
   "execution_count": 5,
   "metadata": {},
   "outputs": [
    {
     "name": "stdout",
     "output_type": "stream",
     "text": [
      "L'acqua\n",
      "Il bambino chiese: \"Acqua\"\n",
      "Il bambino chiese l'Acqua\n"
     ]
    }
   ],
   "source": [
    "frase2 = '''Il bambino chiese l'Acqua'''\n",
    "print (frase2)"
   ]
  },
  {
   "cell_type": "markdown",
   "metadata": {},
   "source": [
    "### 2.2 Indicizzazione e \"affettamento\" di una stringa\n",
    "\n",
    "Per accedere agli elementi di una sequenza si usa la sintassi **sequenza[indice]**. Questo restituirà l’elemento della sequenza individuato dalla posizione indice (il primo elemento ha sempre indice 0). È inoltre possibile specificare indici negativi che partono dalla fine della sequenza (l’ultimo elemento ha indice -1, il penultimo -2, ecc.). Questa operazione è chiamata indexing."
   ]
  },
  {
   "cell_type": "code",
   "execution_count": 6,
   "metadata": {},
   "outputs": [
    {
     "name": "stdout",
     "output_type": "stream",
     "text": [
      "N k\n"
     ]
    }
   ],
   "source": [
    "location = \"New York\"\n",
    "print(location[0], location[-1])"
   ]
  },
  {
   "cell_type": "markdown",
   "metadata": {},
   "source": [
    "Per ottenere una nuova sequenza che sia un sottoinsieme di quella di partenza la sintassi da usare è **sequenza[inizio:fine]**. Otterremo una nuova sequenza che include tutti gli elementi della prima compresi tra l’indice **inizio (incluso)** e l’indice **fine (escluso)**. Se l'inizio è omesso, gli elementi verranno presi dall’inizio, se la fine è omessa, gli elementi verranno presi fino alla fine. Questa operazione è chiamata slicing (letteralmente “affettare”)."
   ]
  },
  {
   "cell_type": "code",
   "execution_count": 7,
   "metadata": {},
   "outputs": [
    {
     "name": "stdout",
     "output_type": "stream",
     "text": [
      "w Yo\n",
      "York\n"
     ]
    }
   ],
   "source": [
    "print(location[2:6])\n",
    "print(location[4:])"
   ]
  },
  {
   "cell_type": "markdown",
   "metadata": {},
   "source": [
    "### 2.3 Concatenamento, ripetizione e lunghezza di una stringa\n",
    "\n",
    "È possibile usare l’operatore **+** per concatenare sequenze, **\\*** per ripeterle e la funzione *len* per misurarne la lunghezza"
   ]
  },
  {
   "cell_type": "code",
   "execution_count": null,
   "metadata": {},
   "outputs": [],
   "source": [
    "location = \"New York\"\n",
    "\n",
    "# Concatenare le stringhe con il +.\n",
    "where_am_i = 'I am in ' + location\n",
    "\n",
    "# Stampa usando la funzione print().\n",
    "print(location, 1, 2)\n",
    "print(where_am_i)"
   ]
  },
  {
   "cell_type": "code",
   "execution_count": null,
   "metadata": {},
   "outputs": [],
   "source": [
    "# Ripeti una stampa n volte \n",
    "print((location + ' ') *4)"
   ]
  },
  {
   "cell_type": "code",
   "execution_count": 8,
   "metadata": {},
   "outputs": [
    {
     "name": "stdout",
     "output_type": "stream",
     "text": [
      "New York 1 2\n",
      "I am in New York\n",
      "New York New York New York New York \n",
      "8\n"
     ]
    }
   ],
   "source": [
    "# Conta il numero di elementi della sequenza usando la funzione len\n",
    "s = len(location)\n",
    "print(s)"
   ]
  },
  {
   "cell_type": "markdown",
   "metadata": {},
   "source": [
    "### 2.4 Funzioni\n",
    "\n",
    "Abbiamo già visto alcune funzioni come len(). La funzioni **possono essere usate con oggetti di diversi tipi**, si usano con la sintassi **funzione(argomenti)** e accettano 0 o più argomenti:"
   ]
  },
  {
   "cell_type": "code",
   "execution_count": null,
   "metadata": {},
   "outputs": [],
   "source": [
    "a = len('Python')  # lunghezza di una stringa\n",
    "print('Lunghezza della stringa',a)"
   ]
  },
  {
   "cell_type": "code",
   "execution_count": null,
   "metadata": {},
   "outputs": [],
   "source": [
    "b = len(['PyPy', 'Jython', 'IronPython'])  # lunghezza di una lista\n",
    "print('Elementi della lista',b)"
   ]
  },
  {
   "cell_type": "code",
   "execution_count": 9,
   "metadata": {},
   "outputs": [
    {
     "name": "stdout",
     "output_type": "stream",
     "text": [
      "Lunghezza della stringa 6\n",
      "Elementi della lista 3\n",
      "Elementi del dizionario 2\n"
     ]
    }
   ],
   "source": [
    "c = len({'a': 3, 'b': 5})  # lunghezza di un dizionario\n",
    "print('Elementi del dizionario',c)"
   ]
  },
  {
   "cell_type": "markdown",
   "metadata": {},
   "source": [
    "#### Alte funzioni\n",
    "\n",
    "* print per stampare (su schermo o su un file)\n",
    "* input per immettere dati da tastiera che verranno usati dal programma"
   ]
  },
  {
   "cell_type": "code",
   "execution_count": 130,
   "metadata": {},
   "outputs": [
    {
     "name": "stdout",
     "output_type": "stream",
     "text": [
      "pippo\n",
      "Digita il tuo nome: 'leo'\n",
      "leo\n"
     ]
    }
   ],
   "source": [
    "print('pippo')\n",
    "\n",
    "nome = input('Digita il tuo nome: ')\n",
    "print(nome)"
   ]
  },
  {
   "cell_type": "markdown",
   "metadata": {},
   "source": [
    "### 2.5 Metodi\n",
    "\n",
    "I metodi sono simili alle funzioni ma **sono legati al tipo dell’oggetto**. La sintassi per i metodi è **oggetto.metodo(argomenti)**. Così come le funzioni, i metodi possono accettare 0 o più argomenti:"
   ]
  },
  {
   "cell_type": "code",
   "execution_count": 10,
   "metadata": {},
   "outputs": [
    {
     "name": "stdout",
     "output_type": "stream",
     "text": [
      "new york\n"
     ]
    }
   ],
   "source": [
    "# Convertire una stringa in lettere minuscole.\n",
    "location = 'New York'\n",
    "print(location.lower())"
   ]
  },
  {
   "cell_type": "markdown",
   "metadata": {},
   "source": [
    "### 2.5 Esercizio\n",
    "\n",
    "Salvate il vostro nome in lettere minuscole in una varibile e fatelo scrivere con l'iniziale maiuscola. Poi fatelo scrivere tutto maiuscolo. \n",
    "Suggerimento: effettuare una ricerca [Google for \"How to capitalize a string in python\"](http://www.google.com/search?q=how+to+capitalize+a+string+in+python). Qualcuno ha già risolto questo problema prima di voi. Questo vale per quasi tutti i progammi!\n",
    "\n",
    "Suggerimento: usare il metodo \"capitalize\" e \"upper\" delle stringhe. "
   ]
  },
  {
   "cell_type": "code",
   "execution_count": null,
   "metadata": {},
   "outputs": [],
   "source": []
  },
  {
   "cell_type": "markdown",
   "metadata": {},
   "source": [
    "## 3. Liste e Tuple"
   ]
  },
  {
   "cell_type": "markdown",
   "metadata": {},
   "source": [
    "Python ha tre tipi principali di raccolta: le Liste, le Tuple ed i Dizionari.  \n",
    "\n",
    "### 3.1 Le liste\n",
    "Le Liste sono una raccolta ordinata di oggetti mutabili, racchiusi tra parentesi quadre [] e separati da ','. È possibile definire una lista vuota usando le parentesi quadre senza nessun elemento. Gli oggetti della lista possono essere anche di tipi diversi tra loro e.g. numeri, stringhe e liste. "
   ]
  },
  {
   "cell_type": "code",
   "execution_count": 11,
   "metadata": {},
   "outputs": [],
   "source": [
    "# Esempio di lista.\n",
    "everything = ['a', 'b', 'c', 1, 2, 3, \"hello\", a]\n",
    "\n",
    "#Lista vuota\n",
    "vuota = []"
   ]
  },
  {
   "cell_type": "markdown",
   "metadata": {},
   "source": [
    "### 3.2 Usare le liste\n",
    "\n",
    "Così come le stringhe, anche le liste sono un tipo di sequenza e supportano quindi le operazioni comuni a tutte le sequenze, come indexing, slicing, contenimento, concatenazione, e ripetizione:"
   ]
  },
  {
   "cell_type": "code",
   "execution_count": 12,
   "metadata": {},
   "outputs": [
    {
     "name": "stdout",
     "output_type": "stream",
     "text": [
      "a\n",
      "['a', 'b', 'c']\n",
      "['c', 1, 2, 3]\n"
     ]
    }
   ],
   "source": [
    "# Possiamo accedere agli elementi delle Liste con l'affettamento e gli indici esattamente come fatto per le Stringhe.\n",
    "# Ricordarsi che gli indici in Python sono in base 0!\n",
    "print(everything[0]) # indexing\n",
    "print(everything[:3]) # slicing\n",
    "print(everything[2:-2])"
   ]
  },
  {
   "cell_type": "code",
   "execution_count": 13,
   "metadata": {},
   "outputs": [
    {
     "name": "stdout",
     "output_type": "stream",
     "text": [
      "[3, 'hello', 6]\n"
     ]
    }
   ],
   "source": [
    "# Gli indici negativi contano dalla fine della lista.\n",
    "print(everything[-3:])"
   ]
  },
  {
   "cell_type": "code",
   "execution_count": 14,
   "metadata": {},
   "outputs": [
    {
     "name": "stdout",
     "output_type": "stream",
     "text": [
      "True\n"
     ]
    }
   ],
   "source": [
    "# operatori di contenmento \"in\" e \"not in\"\n",
    "print('a' in everything)"
   ]
  },
  {
   "cell_type": "code",
   "execution_count": 15,
   "metadata": {},
   "outputs": [
    {
     "name": "stdout",
     "output_type": "stream",
     "text": [
      "['a', 'b', 'c', 1, 2, 3, 'hello', 6, 'you']\n"
     ]
    }
   ],
   "source": [
    "# Per aggiungere elementi ad una lista si usa il metodo append.\n",
    "everything.append(\"you\")\n",
    "print(everything)"
   ]
  },
  {
   "cell_type": "code",
   "execution_count": 16,
   "metadata": {},
   "outputs": [
    {
     "data": {
      "text/plain": [
       "['a', 'b', 'c', 1, 2, 3, 'hello', 6, 'you', 'pippo', 5, 8]"
      ]
     },
     "execution_count": 16,
     "metadata": {},
     "output_type": "execute_result"
    }
   ],
   "source": [
    "# Per concatenare elementi si può anche aggiungere elementi (ritorna una nuova lista)\n",
    "everything + ['pippo', 5, 8]"
   ]
  },
  {
   "cell_type": "code",
   "execution_count": 17,
   "metadata": {},
   "outputs": [
    {
     "data": {
      "text/plain": [
       "[1, 2, 3, 1, 2, 3, 1, 2, 3]"
      ]
     },
     "execution_count": 17,
     "metadata": {},
     "output_type": "execute_result"
    }
   ],
   "source": [
    "# Ripetizione (ritorna una nuova lista)\n",
    "[1, 2, 3] * 3"
   ]
  },
  {
   "cell_type": "markdown",
   "metadata": {},
   "source": [
    "Le liste supportano anche funzioni e metodi comuni alle altre sequenze: *len()* per contare gli elementi, *min()* e *max()* per trovare l’elemento più piccolo/grande (a patto che i tipi degli elementi siano comparabili), *.index()* per trovare l’indice di un elemento, e *.count()* per contare quante volte un elemento è presente nella lista:"
   ]
  },
  {
   "cell_type": "code",
   "execution_count": 18,
   "metadata": {},
   "outputs": [
    {
     "name": "stdout",
     "output_type": "stream",
     "text": [
      "Numero di elementi 5\n"
     ]
    }
   ],
   "source": [
    "letters = ['a', 'b', 'c', 'b', 'a']\n",
    "l = len(letters)  # numero di elementi\n",
    "print('Numero di elementi', l)"
   ]
  },
  {
   "cell_type": "code",
   "execution_count": 19,
   "metadata": {},
   "outputs": [
    {
     "name": "stdout",
     "output_type": "stream",
     "text": [
      "minimo a massimo c\n"
     ]
    }
   ],
   "source": [
    "m = min(letters)  # elemento più piccolo (alfabeticamente nel caso di stringhe)\n",
    "M = max(letters)  # elemento più grande\n",
    "print('minimo', m, 'massimo', M)"
   ]
  },
  {
   "cell_type": "code",
   "execution_count": 20,
   "metadata": {},
   "outputs": [
    {
     "name": "stdout",
     "output_type": "stream",
     "text": [
      "indice dell'elemento c =  2\n"
     ]
    }
   ],
   "source": [
    "pos = letters.index('c')  # indice dell'elemento 'c'\n",
    "print(\"indice dell'elemento c = \", pos)"
   ]
  },
  {
   "cell_type": "code",
   "execution_count": 21,
   "metadata": {},
   "outputs": [
    {
     "name": "stdout",
     "output_type": "stream",
     "text": [
      "occorrenze di b e c =  2 1\n"
     ]
    }
   ],
   "source": [
    "numc = letters.count('c')  # numero di occorrenze di 'c'\n",
    "numb = letters.count('b')  # numero di occorrenze di 'b'\n",
    "print('occorrenze di b e c = ', numb, numc)"
   ]
  },
  {
   "cell_type": "markdown",
   "metadata": {},
   "source": [
    "A differenza di tuple e stringhe che sono immutabili, le liste possono essere mutate. È quindi possibile assegnare un nuovo valore agli elementi, rimuovere elementi usando la keyword *del*, o cambiare gli elementi usando uno dei metodi aggiuntivi delle liste:\n",
    "\n",
    "Metodo | Descrizione\n",
    "-------|------------\n",
    "**lista.append(elem)** | Aggiunge elem alla fine della lista\n",
    "**lista.extend(seq)** | Estende la lista aggiungendo alla fine gli elementi di seq\n",
    "**lista.insert(indice, elem)** | Aggiunge elem alla lista in posizione indice\n",
    "**lista.pop()** | Rimuove e restituisce l’ultimo elemento della lista\n",
    "**lista.remove(elem)** | Trova e rimuove elem dalla lista\n",
    "**lista.sort()** | Ordina gli elementi della lista dal più piccolo al più grande\n",
    "**lista.reverse()** | Inverte l’ordine degli elementi della lista\n",
    "**lista.copy()** | Crea e restituisce una copia della lista"
   ]
  },
  {
   "cell_type": "code",
   "execution_count": 22,
   "metadata": {},
   "outputs": [
    {
     "name": "stdout",
     "output_type": "stream",
     "text": [
      "['a', 'b', 'c', 'd']\n"
     ]
    }
   ],
   "source": [
    "letters = ['a', 'b', 'c']\n",
    "letters.append('d') # aggiunge 'd' alla fine\n",
    "print(letters)"
   ]
  },
  {
   "cell_type": "code",
   "execution_count": 23,
   "metadata": {},
   "outputs": [
    {
     "name": "stdout",
     "output_type": "stream",
     "text": [
      "['a', 'b', 'c', 'd', 'e', 'f']\n"
     ]
    }
   ],
   "source": [
    "letters.extend(['e', 'f'])  # aggiunge 'e' e 'f' alla fine\n",
    "print(letters)"
   ]
  },
  {
   "cell_type": "code",
   "execution_count": 24,
   "metadata": {},
   "outputs": [
    {
     "name": "stdout",
     "output_type": "stream",
     "text": [
      "['a', 'b', 'c', 'd', 'e', 'f', ['e', 'f']]\n"
     ]
    }
   ],
   "source": [
    "letters.append(['e', 'f'])  # aggiunge la lista come elemento alla fine\n",
    "print(letters)"
   ]
  },
  {
   "cell_type": "code",
   "execution_count": 25,
   "metadata": {},
   "outputs": [
    {
     "data": {
      "text/plain": [
       "['e', 'f']"
      ]
     },
     "execution_count": 25,
     "metadata": {},
     "output_type": "execute_result"
    }
   ],
   "source": [
    "letters.pop()  # rimuove e ritorna l'ultimo elemento (la lista)"
   ]
  },
  {
   "cell_type": "code",
   "execution_count": 26,
   "metadata": {},
   "outputs": [
    {
     "data": {
      "text/plain": [
       "'f'"
      ]
     },
     "execution_count": 26,
     "metadata": {},
     "output_type": "execute_result"
    }
   ],
   "source": [
    "letters.pop()  # rimuove e ritorna l'ultimo elemento ('f')"
   ]
  },
  {
   "cell_type": "code",
   "execution_count": 27,
   "metadata": {},
   "outputs": [
    {
     "data": {
      "text/plain": [
       "'a'"
      ]
     },
     "execution_count": 27,
     "metadata": {},
     "output_type": "execute_result"
    }
   ],
   "source": [
    "letters.pop(0)  # rimuove e ritorna l'elemento in posizione 0 ('a')"
   ]
  },
  {
   "cell_type": "code",
   "execution_count": 28,
   "metadata": {},
   "outputs": [
    {
     "name": "stdout",
     "output_type": "stream",
     "text": [
      "['b', 'c', 'e']\n"
     ]
    }
   ],
   "source": [
    "letters.remove('d')  # rimuove l'elemento 'd'\n",
    "print(letters)"
   ]
  },
  {
   "cell_type": "code",
   "execution_count": 29,
   "metadata": {},
   "outputs": [
    {
     "name": "stdout",
     "output_type": "stream",
     "text": [
      "['e', 'c', 'b']\n"
     ]
    }
   ],
   "source": [
    "letters.reverse()  # inverte l'ordine \"sul posto\" e non ritorna niente\n",
    "print(letters)"
   ]
  },
  {
   "cell_type": "code",
   "execution_count": 30,
   "metadata": {},
   "outputs": [
    {
     "name": "stdout",
     "output_type": "stream",
     "text": [
      "['e', 'x', 'b']\n"
     ]
    }
   ],
   "source": [
    "letters[1] = 'x'  # sostituisce l'elemento in posizione 1 ('c') con 'x'\n",
    "print(letters)"
   ]
  },
  {
   "cell_type": "code",
   "execution_count": 31,
   "metadata": {},
   "outputs": [
    {
     "name": "stdout",
     "output_type": "stream",
     "text": [
      "['e', 'b']\n"
     ]
    }
   ],
   "source": [
    "del letters[1]  # rimuove l'elemento in posizione 1 ('x')\n",
    "print(letters)"
   ]
  },
  {
   "cell_type": "markdown",
   "metadata": {},
   "source": [
    "### 3.3 Tuple\n",
    "\n",
    "Le tuple sono una sequenza ordinata ed immutabile di oggetti, in genere eterogenei. Per definire una tupla si usa la vigola (,). Per evitare ambiguità gli elementi della tupla sono delimitati da parentesi tonde (()). Per creare una tupla vuota si usano le parentesi tonde senza elementi. Per una tupla di un solo elemento serve la virgola."
   ]
  },
  {
   "cell_type": "code",
   "execution_count": 133,
   "metadata": {},
   "outputs": [],
   "source": [
    "t = ('abc', 1, 2, 23.98)\n",
    "ts = ('abd',)"
   ]
  },
  {
   "cell_type": "markdown",
   "metadata": {},
   "source": [
    "### 3.4 Usare le tuple\n",
    "\n",
    "Le tuple sono un tipo di sequenza (come le strighe), e supportano le operazioni comuni a tutte le sequenze, come indexing, slicing, contenimento, concatenazione, e ripetizione. Essendo però immutabili, una volta create, non è possibile aggiungere o rimuovere o modificare gli elementi."
   ]
  },
  {
   "cell_type": "code",
   "execution_count": null,
   "metadata": {},
   "outputs": [],
   "source": [
    "t = ('abc', 123, 45.67)\n",
    "t[0]  # le tuple supportano indexing"
   ]
  },
  {
   "cell_type": "code",
   "execution_count": null,
   "metadata": {},
   "outputs": [],
   "source": [
    "t[:2]  # slicing"
   ]
  },
  {
   "cell_type": "code",
   "execution_count": null,
   "metadata": {},
   "outputs": [],
   "source": [
    "123 in t  # gli operatori di contenimento \"in\" e \"not in\""
   ]
  },
  {
   "cell_type": "code",
   "execution_count": null,
   "metadata": {},
   "outputs": [],
   "source": [
    "t + ('xyz', 890)  # concatenazione (ritorna una nuova tupla)"
   ]
  },
  {
   "cell_type": "code",
   "execution_count": null,
   "metadata": {},
   "outputs": [],
   "source": [
    "t * 2  # ripetizione (ritorna una nuova tupla)"
   ]
  },
  {
   "cell_type": "code",
   "execution_count": null,
   "metadata": {},
   "outputs": [],
   "source": [
    "t[0] = 'xyz'  # non è possibile modificare gli elementi"
   ]
  },
  {
   "cell_type": "markdown",
   "metadata": {},
   "source": [
    "È anche possibile usare funzioni e metodi comuni a tutte le sequenze: len() per contare gli elementi, min() e max() per trovare l’elemento più piccolo/grande (a patto che i tipi degli elementi siano comparabili), .index() per trovare l’indice di un elemento, e .count() per contare quante volte un elemento è presente nella tupla:"
   ]
  },
  {
   "cell_type": "code",
   "execution_count": 135,
   "metadata": {},
   "outputs": [
    {
     "data": {
      "text/plain": [
       "5"
      ]
     },
     "execution_count": 135,
     "metadata": {},
     "output_type": "execute_result"
    }
   ],
   "source": [
    "len(('abc', 123, 45.67, 'xyz', 890))  # numero di elementi"
   ]
  },
  {
   "cell_type": "code",
   "execution_count": 136,
   "metadata": {},
   "outputs": [
    {
     "data": {
      "text/plain": [
       "1"
      ]
     },
     "execution_count": 136,
     "metadata": {},
     "output_type": "execute_result"
    }
   ],
   "source": [
    "min((4, 1, 7, 5))  # elemento più piccolo"
   ]
  },
  {
   "cell_type": "code",
   "execution_count": 137,
   "metadata": {},
   "outputs": [
    {
     "data": {
      "text/plain": [
       "7"
      ]
     },
     "execution_count": 137,
     "metadata": {},
     "output_type": "execute_result"
    }
   ],
   "source": [
    "max((4, 1, 7, 5))  # elemento più grande"
   ]
  },
  {
   "cell_type": "code",
   "execution_count": 138,
   "metadata": {},
   "outputs": [
    {
     "data": {
      "text/plain": [
       "2"
      ]
     },
     "execution_count": 138,
     "metadata": {},
     "output_type": "execute_result"
    }
   ],
   "source": [
    "t = ('a', 'b', 'c', 'b', 'a')\n",
    "t.index('c')  # indice dell'elemento 'c'"
   ]
  },
  {
   "cell_type": "code",
   "execution_count": 139,
   "metadata": {},
   "outputs": [
    {
     "data": {
      "text/plain": [
       "1"
      ]
     },
     "execution_count": 139,
     "metadata": {},
     "output_type": "execute_result"
    }
   ],
   "source": [
    "t.count('c')  # numero di occorrenze di 'c'"
   ]
  },
  {
   "cell_type": "code",
   "execution_count": 140,
   "metadata": {},
   "outputs": [
    {
     "data": {
      "text/plain": [
       "2"
      ]
     },
     "execution_count": 140,
     "metadata": {},
     "output_type": "execute_result"
    }
   ],
   "source": [
    "t.count('b')  # numero di occorrenze di 'b'"
   ]
  },
  {
   "cell_type": "markdown",
   "metadata": {},
   "source": [
    "### 3.5 Esempio di lista vs tupla\n",
    "\n",
    "Pensiamo alla tabella in un database\n",
    "\n",
    "Nome | Cognome | Età\n",
    "-----|---------|----\n",
    "John | Smith | 20\n",
    "Jane | Johnson | 30\n",
    "Jack | Williams | 28\n",
    "Mary | Jones | 25\n",
    "Mark | Brown | 23\n",
    "\n",
    "Ogni riga della tabella può essere rappresentata con una tupla (es. ('John', 'Smith', 20)) di 3 elementi (lunghezza fissa) eterogenei (stringhe e interi) a cui possiamo accedere tramite indexing (es. t[1] per il cognome). \n",
    "Ogni colonna può essere rappresentata con una lista (es. ['John', 'Jane', 'Jack', ...]]) di lunghezza variabile (persone possono essere aggiunte o tolte) e elementi omogenei (la colonna del nome ha solo stringhe, quella dell’età solo numeri) a cui è possibile accedere tramite iterazione (es. stampare la lista di cognomi usando un loop).\n",
    "\n",
    "È inoltre possibile combinare i due tipi e rappresentare l’intera tabella come una lista di tuple: ?[('John', 'Smith', 20),\n",
    " ('Jane', 'Johnson', 30),\n",
    " ('Jack', 'Williams', 28),\n",
    " ...]\n"
   ]
  },
  {
   "cell_type": "markdown",
   "metadata": {},
   "source": [
    "## 4. Dizionari\n",
    "\n",
    "L'altro tipo principale di raccolte in Python è il Dizionario. Il dizionario è un insieme di elementi mutabili, non ordinati, formati da una chiave ed un valore. Una volta che il dizionario è stato creato si può usare la chiave (che deve essere univoca) per ottenere il valore corrispondente.\n",
    "\n",
    "### 4.1 Definizione\n",
    "\n",
    "I dizionari vengono definiti elencando tra parentesi graffe ({}) una serie di elementi separati da virgole (,), dove ogni elemento è formato da una chiave e un valore separati dai due punti (:). È possibile creare un dizionario vuoto usando le parentesi graffe senza nessun elemento all’interno."
   ]
  },
  {
   "cell_type": "code",
   "execution_count": 33,
   "metadata": {},
   "outputs": [
    {
     "name": "stdout",
     "output_type": "stream",
     "text": [
      "{'a': 1, 'c': 3, 'b': 2}\n"
     ]
    }
   ],
   "source": [
    "d = {'a':1, 'b':2, 'c':3} # nuovo dizionario di 3 elementi\n",
    "print(d)"
   ]
  },
  {
   "cell_type": "markdown",
   "metadata": {},
   "source": [
    "In questo esempio possiamo vedere che d è un dizionario che contiene 3 elementi formati da una chiave e un valore. 'a', 'b' e 'c' sono le chiavi, mentre 1, 2 e 3 sono i valori. Possiamo anche notare come l’ordine degli elementi sia arbitrario, dato che i dizionari non sono ordinati."
   ]
  },
  {
   "cell_type": "code",
   "execution_count": 34,
   "metadata": {},
   "outputs": [
    {
     "data": {
      "text/plain": [
       "dict"
      ]
     },
     "execution_count": 34,
     "metadata": {},
     "output_type": "execute_result"
    }
   ],
   "source": [
    "type(d) # Verifichiamo che d sia un dizionario"
   ]
  },
  {
   "cell_type": "code",
   "execution_count": 35,
   "metadata": {},
   "outputs": [
    {
     "data": {
      "text/plain": [
       "{}"
      ]
     },
     "execution_count": 35,
     "metadata": {},
     "output_type": "execute_result"
    }
   ],
   "source": [
    "f = {} # Dizionario vuoto\n",
    "f"
   ]
  },
  {
   "cell_type": "markdown",
   "metadata": {},
   "source": [
    "Le chiavi di un dizionario sono solitamente stringhe, ma è possibile usare anche altri tipi. I valori possono essere di qualsiasi tipo."
   ]
  },
  {
   "cell_type": "code",
   "execution_count": 38,
   "metadata": {},
   "outputs": [
    {
     "name": "stdout",
     "output_type": "stream",
     "text": [
      "{'age': 78, 'kids': [1, 2, 3], 'surname': 'Mustermann', 'name': 'Hans'}\n"
     ]
    }
   ],
   "source": [
    "# I dizionari hanno campi identificati con un nome ma non sono ordinati. \n",
    "# Come nel caso delle liste possono contenere qualunque tipo di oggetto.\n",
    "# I dizionari sono racchiusi tra parentesi graffe {}.\n",
    "\n",
    "information = {\n",
    "    \"name\": \"Hans\",\n",
    "    \"surname\": \"Mustermann\",\n",
    "    \"age\": 78,\n",
    "    \"kids\": [1, 2, 3]\n",
    "}\n",
    "print(information)"
   ]
  },
  {
   "cell_type": "markdown",
   "metadata": {},
   "source": [
    "### 4.2 Usare i dizionari\n",
    "\n",
    "Una volta creato un dizionario, è possibile ottenere il valore associato a una chiave usando la sintassi **dizionario[chiave]**:"
   ]
  },
  {
   "cell_type": "code",
   "execution_count": 41,
   "metadata": {},
   "outputs": [
    {
     "name": "stdout",
     "output_type": "stream",
     "text": [
      "[1, 2, 3]\n",
      "78\n"
     ]
    }
   ],
   "source": [
    "# Per accedere alle voci si usa la sintassi dizionario[chiave]. Attenzione alle \"\" o '' per richiare la chiave. \n",
    "print(information[\"kids\"])\n",
    "print(information[\"age\"])"
   ]
  },
  {
   "cell_type": "markdown",
   "metadata": {},
   "source": [
    "È possibile aggiungere o modificare elementi usando la sintassi **dizionario[chiave] = valore** "
   ]
  },
  {
   "cell_type": "code",
   "execution_count": 42,
   "metadata": {},
   "outputs": [
    {
     "name": "stdout",
     "output_type": "stream",
     "text": [
      "{'age': 78, 'kids': [1, 2, 3], 'surname': 'Mustermann', 'name': 'Hans'}\n",
      "{'music': 'jazz', 'age': 78, 'kids': [1, 2, 3], 'surname': 'Mustermann', 'name': 'Hans'}\n"
     ]
    }
   ],
   "source": [
    "# Aggiungere nuovi oggetti assegnando un valore ad una chiave.\n",
    "print(information)\n",
    "information[\"music\"] = \"jazz\"\n",
    "print(information)"
   ]
  },
  {
   "cell_type": "markdown",
   "metadata": {},
   "source": [
    "È possibile rimuovere elementi del dizionario usando la sintassi **del dizionario[chiave]**"
   ]
  },
  {
   "cell_type": "code",
   "execution_count": 43,
   "metadata": {},
   "outputs": [
    {
     "name": "stdout",
     "output_type": "stream",
     "text": [
      "{'music': 'jazz', 'kids': [1, 2, 3], 'surname': 'Mustermann', 'name': 'Hans'}\n"
     ]
    }
   ],
   "source": [
    "# Cancellare oggetti usando l'operatore del.\n",
    "del information[\"age\"]\n",
    "print(information)"
   ]
  },
  {
   "cell_type": "markdown",
   "metadata": {},
   "source": [
    "È possibile usare l’operatore **in** (o **not in**) per verificare se una chiave è presente nel dizionario:"
   ]
  },
  {
   "cell_type": "code",
   "execution_count": 44,
   "metadata": {},
   "outputs": [
    {
     "data": {
      "text/plain": [
       "False"
      ]
     },
     "execution_count": 44,
     "metadata": {},
     "output_type": "execute_result"
    }
   ],
   "source": [
    "\"x\" in information # Verifica se la chiave \"x\" è presente nel dizionario information e ritorna True o False"
   ]
  },
  {
   "cell_type": "code",
   "execution_count": 45,
   "metadata": {},
   "outputs": [
    {
     "data": {
      "text/plain": [
       "True"
      ]
     },
     "execution_count": 45,
     "metadata": {},
     "output_type": "execute_result"
    }
   ],
   "source": [
    "\"x\" not in information # Verifica che la chiave \"x\" non sia presente nel dizionario information e ritorna True o False"
   ]
  },
  {
   "cell_type": "markdown",
   "metadata": {},
   "source": [
    "### 4.3 Medoti dei dizionari\n",
    "\n",
    "I dizionari supportano diversi metodi\n",
    "\n",
    "Metodo | Descrizione\n",
    "-------|-------------\n",
    "**d.items()** | Restituisce gli elementi di d come un insieme di tuple\n",
    "**d.keys()** | Restituisce le chiavi di d\n",
    "**d.values()** | Restituisce i valori di d\n",
    "**d.get(chiave, default)** | Restituisce il valore corrispondente a chiave se presente, altrimenti il valore di default (None se non specificato)\n",
    "**d.pop(chiave, default)** | Rimuove e restituisce il valore corrispondente a chiave se presente, altrimenti il valore di default (dà KeyError se non specificato)\n",
    "**d.popitem()** | Rimuove e restituisce un elemento arbitrario da d\n",
    "**d.update(d2)** | Aggiunge gli elementi del dizionario d2 a quelli di d\n",
    "**d.copy()** | Crea e restituisce una copia di d\n",
    "**d.clear()** | Rimuove tutti gli elementi di d\n"
   ]
  },
  {
   "cell_type": "code",
   "execution_count": 48,
   "metadata": {},
   "outputs": [
    {
     "data": {
      "text/plain": [
       "3"
      ]
     },
     "execution_count": 48,
     "metadata": {},
     "output_type": "execute_result"
    }
   ],
   "source": [
    "d = {'a': 1, 'b': 2, 'c': 3}  # nuovo dict di 3 elementi\n",
    "len(d)  # verifica che siano 3"
   ]
  },
  {
   "cell_type": "code",
   "execution_count": 49,
   "metadata": {},
   "outputs": [
    {
     "data": {
      "text/plain": [
       "[('a', 1), ('c', 3), ('b', 2)]"
      ]
     },
     "execution_count": 49,
     "metadata": {},
     "output_type": "execute_result"
    }
   ],
   "source": [
    "d.items()  # restituisce gli elementi"
   ]
  },
  {
   "cell_type": "code",
   "execution_count": 50,
   "metadata": {},
   "outputs": [
    {
     "data": {
      "text/plain": [
       "['a', 'c', 'b']"
      ]
     },
     "execution_count": 50,
     "metadata": {},
     "output_type": "execute_result"
    }
   ],
   "source": [
    "d.keys()  # restituisce le chiavi"
   ]
  },
  {
   "cell_type": "code",
   "execution_count": 51,
   "metadata": {},
   "outputs": [
    {
     "data": {
      "text/plain": [
       "[1, 3, 2]"
      ]
     },
     "execution_count": 51,
     "metadata": {},
     "output_type": "execute_result"
    }
   ],
   "source": [
    "d.values()  # restituisce i valori"
   ]
  },
  {
   "cell_type": "code",
   "execution_count": 52,
   "metadata": {},
   "outputs": [
    {
     "data": {
      "text/plain": [
       "3"
      ]
     },
     "execution_count": 52,
     "metadata": {},
     "output_type": "execute_result"
    }
   ],
   "source": [
    "d.get('c', 0)  # restituisce il valore corrispondente a 'c'"
   ]
  },
  {
   "cell_type": "code",
   "execution_count": 53,
   "metadata": {},
   "outputs": [
    {
     "data": {
      "text/plain": [
       "0"
      ]
     },
     "execution_count": 53,
     "metadata": {},
     "output_type": "execute_result"
    }
   ],
   "source": [
    "d.get('x', 0)  # restituisce il default 0 perché 'x' non è presente"
   ]
  },
  {
   "cell_type": "code",
   "execution_count": 54,
   "metadata": {},
   "outputs": [
    {
     "data": {
      "text/plain": [
       "{'a': 1, 'b': 2, 'c': 3}"
      ]
     },
     "execution_count": 54,
     "metadata": {},
     "output_type": "execute_result"
    }
   ],
   "source": [
    "d  # il dizionario contiene ancora tutti gli elementi"
   ]
  },
  {
   "cell_type": "code",
   "execution_count": 55,
   "metadata": {},
   "outputs": [
    {
     "data": {
      "text/plain": [
       "1"
      ]
     },
     "execution_count": 55,
     "metadata": {},
     "output_type": "execute_result"
    }
   ],
   "source": [
    "d.pop('a', 0)  # restituisce e rimuove il valore corrispondente ad 'a'"
   ]
  },
  {
   "cell_type": "code",
   "execution_count": 56,
   "metadata": {},
   "outputs": [
    {
     "data": {
      "text/plain": [
       "0"
      ]
     },
     "execution_count": 56,
     "metadata": {},
     "output_type": "execute_result"
    }
   ],
   "source": [
    "d.pop('x', 0)  # restituisce il default 0 perché 'x' non è presente"
   ]
  },
  {
   "cell_type": "code",
   "execution_count": 57,
   "metadata": {},
   "outputs": [
    {
     "data": {
      "text/plain": [
       "{'b': 2, 'c': 3}"
      ]
     },
     "execution_count": 57,
     "metadata": {},
     "output_type": "execute_result"
    }
   ],
   "source": [
    "d  # l'elemento con chiave 'a' è stato rimosso"
   ]
  },
  {
   "cell_type": "code",
   "execution_count": 58,
   "metadata": {},
   "outputs": [
    {
     "ename": "KeyError",
     "evalue": "'x'",
     "output_type": "error",
     "traceback": [
      "\u001b[0;31m---------------------------------------------------------------------------\u001b[0m",
      "\u001b[0;31mKeyError\u001b[0m                                  Traceback (most recent call last)",
      "\u001b[0;32m<ipython-input-58-0cdbabc7432d>\u001b[0m in \u001b[0;36m<module>\u001b[0;34m()\u001b[0m\n\u001b[0;32m----> 1\u001b[0;31m \u001b[0md\u001b[0m\u001b[0;34m.\u001b[0m\u001b[0mpop\u001b[0m\u001b[0;34m(\u001b[0m\u001b[0;34m'x'\u001b[0m\u001b[0;34m)\u001b[0m  \u001b[0;31m# senza default e con chiave inesistente dà errore\u001b[0m\u001b[0;34m\u001b[0m\u001b[0m\n\u001b[0m",
      "\u001b[0;31mKeyError\u001b[0m: 'x'"
     ]
    }
   ],
   "source": [
    "d.pop('x')  # senza default e con chiave inesistente dà errore"
   ]
  },
  {
   "cell_type": "code",
   "execution_count": 59,
   "metadata": {},
   "outputs": [
    {
     "data": {
      "text/plain": [
       "('c', 3)"
      ]
     },
     "execution_count": 59,
     "metadata": {},
     "output_type": "execute_result"
    }
   ],
   "source": [
    "d.popitem()  # restituisce e rimuove un elemento arbitrario"
   ]
  },
  {
   "cell_type": "code",
   "execution_count": 60,
   "metadata": {},
   "outputs": [
    {
     "data": {
      "text/plain": [
       "{'b': 2}"
      ]
     },
     "execution_count": 60,
     "metadata": {},
     "output_type": "execute_result"
    }
   ],
   "source": [
    "d  # l'elemento con chiave 'c' è stato rimosso"
   ]
  },
  {
   "cell_type": "code",
   "execution_count": 61,
   "metadata": {},
   "outputs": [],
   "source": [
    "d.update({'a': 1, 'c': 3})  # aggiunge di nuovo gli elementi 'a' e 'c'"
   ]
  },
  {
   "cell_type": "code",
   "execution_count": 62,
   "metadata": {},
   "outputs": [
    {
     "data": {
      "text/plain": [
       "{'a': 1, 'b': 2, 'c': 3}"
      ]
     },
     "execution_count": 62,
     "metadata": {},
     "output_type": "execute_result"
    }
   ],
   "source": [
    "d"
   ]
  },
  {
   "cell_type": "code",
   "execution_count": 63,
   "metadata": {},
   "outputs": [],
   "source": [
    "d.clear()  # rimuove tutti gli elementi"
   ]
  },
  {
   "cell_type": "code",
   "execution_count": 64,
   "metadata": {},
   "outputs": [
    {
     "data": {
      "text/plain": [
       "{}"
      ]
     },
     "execution_count": 64,
     "metadata": {},
     "output_type": "execute_result"
    }
   ],
   "source": [
    "d  # lasciando un dizionario vuoto"
   ]
  },
  {
   "cell_type": "markdown",
   "metadata": {
    "collapsed": true
   },
   "source": [
    "## 5. Funzioni\n",
    "\n",
    "La chiave per risolvere un grande problema è quella di dividerlo in tanti più piccoli e affrontrli uno a uno. Questo si fa di solito usando le funzioni. Le funzioni sono quindi un insieme di istruzioni che eseguono un compito specifico.\n",
    "\n",
    "### 5.1 Definizione della funzione\n",
    "\n",
    "* Le funzioni sono definite usando la parola chiave **def**;\n",
    "* dopo il def appare il **nome** della funzione;\n",
    "* dopo il nome della funzione viene specificata tra parentesi tonde la lista dei parametri accettati dalla funzione;\n",
    "* dopo la lista dei parametri ci sono i due punti (:) che introducono un blocco di codice indentato;\n",
    "* il blocco di codice può contenere diverse istruzioni e 0 o più **return**."
   ]
  },
  {
   "cell_type": "code",
   "execution_count": 83,
   "metadata": {},
   "outputs": [],
   "source": [
    "def do_stuff(larghezza, altezza):\n",
    "    return larghezza * altezza"
   ]
  },
  {
   "cell_type": "markdown",
   "metadata": {},
   "source": [
    "### 5.2 Passaggio di argomenti\n",
    "\n",
    "Una volta definita una funzione, è possibile eseguirla. La funzione è chiamata all'interno del programma passando 0 o più argomenti. Gli argomenti possono essere passati per posizione o nome. La sintassi è **funzione(argomenti)**."
   ]
  },
  {
   "cell_type": "code",
   "execution_count": 84,
   "metadata": {},
   "outputs": [
    {
     "name": "stdout",
     "output_type": "stream",
     "text": [
      "6\n"
     ]
    }
   ],
   "source": [
    "# Chiamata alla funzione con gli argomenti racchiusi tra parentesi tonde () specificati per posizione.\n",
    "print(do_stuff(2, 3))"
   ]
  },
  {
   "cell_type": "markdown",
   "metadata": {},
   "source": [
    "In questa chiamata entrambi gli argomenti vengono passati per posizione, quindi il primo valore (2) viene assegnato al primo parametro della funzione (cioè larghezza) e il secondo valore (3) viene assegnato al secondo parametro (cioè altezza)."
   ]
  },
  {
   "cell_type": "code",
   "execution_count": 85,
   "metadata": {},
   "outputs": [
    {
     "name": "stdout",
     "output_type": "stream",
     "text": [
      "6\n"
     ]
    }
   ],
   "source": [
    "# Chiamata alla funzione con gli argomenti racchiusi tra parentesi tonde () specificati per nome.\n",
    "print(do_stuff(larghezza=2, altezza=3))"
   ]
  },
  {
   "cell_type": "markdown",
   "metadata": {},
   "source": [
    "In questa chiamata gli argomenti vengono passati per nome, usando larghezza=3 e altezza=5, ottenendo il medesimo risultato. Quando gli argomenti vengono passati per nome, l’ordine non è importante.\n",
    "\n",
    "È anche possibile passare alcuni argomenti per posizione e altri per nome, a patto che gli argomenti passati per posizione precedano quelli passati per nome."
   ]
  },
  {
   "cell_type": "markdown",
   "metadata": {},
   "source": [
    "Le funzioni in Python possono avere **argomenti opzionali** che hanno un valore di default definito nella funzione stessa. Se il valore dell'argomento non viene passato esplitamente la funzione assumerà il valore di default. Per cambiare il default basta chiamare la funzione specificando per l'argomento il valore desiderato."
   ]
  },
  {
   "cell_type": "code",
   "execution_count": 86,
   "metadata": {},
   "outputs": [
    {
     "name": "stdout",
     "output_type": "stream",
     "text": [
      "6\n",
      "216\n"
     ]
    }
   ],
   "source": [
    "# Le funzioni in Python possono avere argomenti opzionali. power è un argomento opzionale!\n",
    "def do_more_stuff(a, b, power=1):\n",
    "    return (a * b) ** power\n",
    "\n",
    "print(do_more_stuff(2, 3))\n",
    "print(do_more_stuff(2, 3, power=3))"
   ]
  },
  {
   "cell_type": "code",
   "execution_count": 87,
   "metadata": {},
   "outputs": [
    {
     "name": "stdout",
     "output_type": "stream",
     "text": [
      "216\n"
     ]
    }
   ],
   "source": [
    "# Per funzioni più complesse è una buona idea dare un nome esplicito agli argomenti. \n",
    "# Questo rende il programmapiù leggibile e riduce la probabilità di commettere errori.\n",
    "print(do_more_stuff(a=2, b=3, power=3))"
   ]
  },
  {
   "cell_type": "markdown",
   "metadata": {},
   "source": [
    "### 5.3 Valori di ritorno\n",
    "\n",
    "La parola chiave **return** viene usata per restituire un valore al chiamante, che può assegnarlo a una variabile o utilizzarlo per altre operazioni. \n",
    "Una funzione può contenere 0 o più return, e una volta che un return viene eseguito, la funzione termina immediatamente. Se in una funzione ci sono più return ne viene eseguito soltanto uno."
   ]
  },
  {
   "cell_type": "code",
   "execution_count": 88,
   "metadata": {},
   "outputs": [
    {
     "name": "stdout",
     "output_type": "stream",
     "text": [
      "4\n"
     ]
    }
   ],
   "source": [
    "def square(n):\n",
    "    return n**2\n",
    "\n",
    "x = square(2)\n",
    "print (x)"
   ]
  },
  {
   "cell_type": "code",
   "execution_count": 89,
   "metadata": {},
   "outputs": [
    {
     "name": "stdout",
     "output_type": "stream",
     "text": [
      "16\n"
     ]
    }
   ],
   "source": [
    "y = square(square(2))\n",
    "print(y)"
   ]
  },
  {
   "cell_type": "code",
   "execution_count": 90,
   "metadata": {},
   "outputs": [
    {
     "name": "stdout",
     "output_type": "stream",
     "text": [
      "5\n",
      "3\n"
     ]
    }
   ],
   "source": [
    "def abs(n):\n",
    "    if n < 0: \n",
    "        return -n # Return eseguito per n negativo\n",
    "    return n      # Return eseguito per n positivo\n",
    "\n",
    "z = abs(-5)\n",
    "w = abs(3)\n",
    "print(z)\n",
    "print(w)"
   ]
  },
  {
   "cell_type": "markdown",
   "metadata": {},
   "source": [
    "Nel caso sia necessario ritornare più valori, è possibile fare così:"
   ]
  },
  {
   "cell_type": "code",
   "execution_count": 91,
   "metadata": {},
   "outputs": [
    {
     "name": "stdout",
     "output_type": "stream",
     "text": [
      "x =  5.0\n",
      "y =  8.0\n"
     ]
    }
   ],
   "source": [
    "def midpoint(x1, y1, x2, y2):\n",
    "    \"\"\"Return the midpoint between (x1; y1) and (x2; y2).\"\"\"\n",
    "    xm = (x1 + x2) / 2\n",
    "    ym = (y1 + y2) / 2\n",
    "    return xm, ym\n",
    "\n",
    "x, y = midpoint(2, 4, 8, 12)\n",
    "print('x = ',x)\n",
    "print('y = ',y)"
   ]
  },
  {
   "cell_type": "markdown",
   "metadata": {},
   "source": [
    "In questo caso il valore ritornato è sempre uno: una singola tupla di 2 elementi. Python supporta un’operazione chiamata unpacking, che ci permette di assegnare contemporaneamente diversi valori a più variabili, permettendo quindi operazioni come x, y = midpoint(2, 4, 8, 12). In tal modo, possiamo assegnare il primo valore della tupla a x e il secondo a y."
   ]
  },
  {
   "cell_type": "markdown",
   "metadata": {},
   "source": [
    "### 5.4 Variabili locali e globali\n",
    "\n",
    "Tutti i parametri e le variabili create all’interno di una funzione, sono locali alla funzione, cioè possono essere usate solo da codice che si trova all’interno della funzione. Se proviamo ad accedere a queste variabili dall’esterno della funzione otteniamo un NameError"
   ]
  },
  {
   "cell_type": "code",
   "execution_count": 92,
   "metadata": {},
   "outputs": [
    {
     "name": "stdout",
     "output_type": "stream",
     "text": [
      "78.5\n"
     ]
    }
   ],
   "source": [
    "def area_cerchio(r):\n",
    "    pi = 3.14\n",
    "    return pi * r**2\n",
    "\n",
    "print(area_cerchio(5))"
   ]
  },
  {
   "cell_type": "code",
   "execution_count": 93,
   "metadata": {},
   "outputs": [
    {
     "ename": "NameError",
     "evalue": "name 'r' is not defined",
     "output_type": "error",
     "traceback": [
      "\u001b[0;31m---------------------------------------------------------------------------\u001b[0m",
      "\u001b[0;31mNameError\u001b[0m                                 Traceback (most recent call last)",
      "\u001b[0;32m<ipython-input-93-dd0f6f3bf2c8>\u001b[0m in \u001b[0;36m<module>\u001b[0;34m()\u001b[0m\n\u001b[0;32m----> 1\u001b[0;31m \u001b[0;32mprint\u001b[0m\u001b[0;34m(\u001b[0m\u001b[0mr\u001b[0m\u001b[0;34m)\u001b[0m\u001b[0;34m\u001b[0m\u001b[0m\n\u001b[0m\u001b[1;32m      2\u001b[0m \u001b[0;32mprint\u001b[0m\u001b[0;34m(\u001b[0m\u001b[0mpi\u001b[0m\u001b[0;34m)\u001b[0m\u001b[0;34m\u001b[0m\u001b[0m\n",
      "\u001b[0;31mNameError\u001b[0m: name 'r' is not defined"
     ]
    }
   ],
   "source": [
    "print(r)\n",
    "print(pi)"
   ]
  },
  {
   "cell_type": "markdown",
   "metadata": {},
   "source": [
    "Le funzioni possono però accedere in lettura a valori globali, cioè definiti fuori dalla funzione"
   ]
  },
  {
   "cell_type": "code",
   "execution_count": 94,
   "metadata": {},
   "outputs": [
    {
     "name": "stdout",
     "output_type": "stream",
     "text": [
      "78.5\n"
     ]
    }
   ],
   "source": [
    "pi = 3.14\n",
    "def area_cerchio(r):\n",
    "    return pi * r**2\n",
    "\n",
    "print(area_cerchio(5))"
   ]
  },
  {
   "cell_type": "markdown",
   "metadata": {},
   "source": [
    "In generale Python segue una semplice regola di risoluzione dei nomi:\n",
    "\n",
    "* prima verifica se il nome esiste nel namespace locale;\n",
    "* se non esiste lo cerca nel namespace globale;\n",
    "* se non esiste neanche nel namespace globale, lo cerca tra gli oggetti builtin.\n",
    "* Se un nome non è presente neanche tra gli oggetti builtin, Python restituisce un NameError.\n",
    "\n",
    "Definisco una nuova funzione stampa_area_cerchio(r)"
   ]
  },
  {
   "cell_type": "code",
   "execution_count": 95,
   "metadata": {},
   "outputs": [
    {
     "name": "stdout",
     "output_type": "stream",
     "text": [
      "78.5\n"
     ]
    }
   ],
   "source": [
    "pi = 3.14\n",
    "def stampa_area_cerchio(r):\n",
    "    print(pi * r**2)\n",
    "    \n",
    "stampa_area_cerchio(5)    "
   ]
  },
  {
   "cell_type": "markdown",
   "metadata": {},
   "source": [
    "Se guardiamo la linea di codice $$print(pi * r**2)$$ contine 3 nomi: print, pi, r\n",
    "1. r è una variabile locale;\n",
    "+ pi è una variabile globale definita fuori dalla funzione;\n",
    "+ print è una funzione buil-in. "
   ]
  },
  {
   "cell_type": "markdown",
   "metadata": {},
   "source": [
    "## 6. Import\n",
    "\n",
    "Per usare funzioni e oggetti che non fanno parte del default devono essere importati. È una cosa che va fatta spesso quindi è opportuno sapere come procedere. "
   ]
  },
  {
   "cell_type": "code",
   "execution_count": 7,
   "metadata": {},
   "outputs": [],
   "source": [
    "# Importare qualsiasi cosa, e usarla con la notazione a punto. \n",
    "import math\n",
    "\n",
    "a = math.cos(4 * math.pi)\n",
    "\n",
    "# È possibile importare oggetti in maniera selettiva.\n",
    "from math import pi\n",
    "\n",
    "b = 3 * pi\n",
    "\n",
    "# Infine è possibile anche rinominare quanto importato.\n",
    "from math import cos as cosine\n",
    "c = cosine(b)"
   ]
  },
  {
   "cell_type": "markdown",
   "metadata": {},
   "source": [
    "Come si fa a sapere cosa possiamo importare?\n",
    "\n",
    "1. Leggi la [documentazione](https://docs.python.org/3/library/math.html)\n",
    "2. Interrogare il modulo in modo interattivo"
   ]
  },
  {
   "cell_type": "code",
   "execution_count": 8,
   "metadata": {},
   "outputs": [
    {
     "name": "stdout",
     "output_type": "stream",
     "text": [
      "['__doc__', '__file__', '__name__', '__package__', 'acos', 'acosh', 'asin', 'asinh', 'atan', 'atan2', 'atanh', 'ceil', 'copysign', 'cos', 'cosh', 'degrees', 'e', 'erf', 'erfc', 'exp', 'expm1', 'fabs', 'factorial', 'floor', 'fmod', 'frexp', 'fsum', 'gamma', 'hypot', 'isinf', 'isnan', 'ldexp', 'lgamma', 'log', 'log10', 'log1p', 'modf', 'pi', 'pow', 'radians', 'sin', 'sinh', 'sqrt', 'tan', 'tanh', 'trunc']\n"
     ]
    }
   ],
   "source": [
    "print(dir(math))"
   ]
  },
  {
   "cell_type": "markdown",
   "metadata": {},
   "source": [
    "Digitando il punto e il TAB si avvia il completamento delle schede."
   ]
  },
  {
   "cell_type": "code",
   "execution_count": 9,
   "metadata": {},
   "outputs": [
    {
     "ename": "SyntaxError",
     "evalue": "invalid syntax (<ipython-input-9-6994845579ab>, line 1)",
     "output_type": "error",
     "traceback": [
      "\u001b[0;36m  File \u001b[0;32m\"<ipython-input-9-6994845579ab>\"\u001b[0;36m, line \u001b[0;32m1\u001b[0m\n\u001b[0;31m    math.\u001b[0m\n\u001b[0m         ^\u001b[0m\n\u001b[0;31mSyntaxError\u001b[0m\u001b[0;31m:\u001b[0m invalid syntax\n"
     ]
    }
   ],
   "source": [
    "math."
   ]
  },
  {
   "cell_type": "markdown",
   "metadata": {},
   "source": [
    "Nell'ambiente IPython è anche possibile utilizzare un punto interrogativo per visualizzare la documentazione di moduli e funzioni."
   ]
  },
  {
   "cell_type": "code",
   "execution_count": 10,
   "metadata": {},
   "outputs": [],
   "source": [
    "math.cos?"
   ]
  },
  {
   "cell_type": "markdown",
   "metadata": {},
   "source": [
    "## 7. Controllo del flusso e istruzioni condizionali \n",
    "\n",
    "In Python esistono due tipi di cicli (anche detti loop):\n",
    "\n",
    "* il ciclo **for**: esegue un’iterazione per ogni elemento di un iterabile;\n",
    "* il ciclo **while**: itera fintanto che una condizione è vera.\n",
    "\n",
    "Fare attenzione perché **in Python lo spazio bianco è rilevante**. Tutto ciò che è indentato allo stesso livello fa parte dello stesso blocco. \n",
    "\n",
    "### 7.1 for"
   ]
  },
  {
   "cell_type": "code",
   "execution_count": 112,
   "metadata": {},
   "outputs": [
    {
     "name": "stdout",
     "output_type": "stream",
     "text": [
      "a a\n",
      "b b\n",
      "c c\n",
      "No more part of the loop.\n"
     ]
    }
   ],
   "source": [
    "temp = [\"a\", \"b\", \"c\"]\n",
    "\n",
    "# Tipico ciclo in Python, e.g.\n",
    "for item in temp:\n",
    "    # Tutto quello che ha la stessa indentazione è parte del ciclo.\n",
    "    new_item = item + \" \" + item\n",
    "    print(new_item)\n",
    "    \n",
    "print(\"No more part of the loop.\")  "
   ]
  },
  {
   "cell_type": "markdown",
   "metadata": {},
   "source": [
    "Possiamo notare che:\n",
    "\n",
    "* il ciclo for è introdotto dalla keyword **for**, seguita da una variabile, dalla keyword **in**, da un iterabile, e infine dai due punti (:);\n",
    "* dopo i due punti è presente un blocco di codice indentato (che può anche essere formato da più righe);\n",
    "* il ciclo for itera su tutti gli elementi della sequenza, li assegna alla variabile n, ed esegue il blocco di codice;\n",
    "* in questo esempio la variabile item assumerà i valori di \"a\", \"b\" e \"c\" e per ogni valore stamperà il proprio doppio \"a a\", \"b b\" e \"c c\";\n",
    "* una volta che il blocco di codice è stato eseguito per tutti i valori, il ciclo for termina.\n",
    "* for in Python non usa indici.\n",
    "\n",
    "### 7.2 range\n",
    "\n",
    "Dato che spesso accade di voler lavorare su sequenze di numeri, Python fornisce una funzione built-in chiamata **range** che permette di specificare uno valore iniziale o start (incluso), un valore finale o stop (escluso), e uno step, e che ritorna una sequenza di numeri interi:"
   ]
  },
  {
   "cell_type": "code",
   "execution_count": 12,
   "metadata": {},
   "outputs": [
    {
     "name": "stdout",
     "output_type": "stream",
     "text": [
      "0\n",
      "1\n",
      "2\n",
      "3\n",
      "4\n"
     ]
    }
   ],
   "source": [
    "# È utile conoscere la funzione range().\n",
    "for i in range(5):\n",
    "    print(i)"
   ]
  },
  {
   "cell_type": "code",
   "execution_count": 100,
   "metadata": {},
   "outputs": [
    {
     "name": "stdout",
     "output_type": "stream",
     "text": [
      "Il quadrato di  1 è  1\n",
      "Il quadrato di  2 è  4\n",
      "Il quadrato di  3 è  9\n",
      "Il quadrato di  4 è  16\n",
      "Il quadrato di  5 è  25\n"
     ]
    }
   ],
   "source": [
    "for i in range(1, 6):\n",
    "    print('Il quadrato di ', i , 'è ', i**2)"
   ]
  },
  {
   "cell_type": "code",
   "execution_count": 101,
   "metadata": {},
   "outputs": [
    {
     "data": {
      "text/plain": [
       "[0, 2, 4, 6, 8]"
      ]
     },
     "execution_count": 101,
     "metadata": {},
     "output_type": "execute_result"
    }
   ],
   "source": [
    "list(range(0,10,2))"
   ]
  },
  {
   "cell_type": "markdown",
   "metadata": {},
   "source": [
    "### 7.3 while\n",
    "\n",
    "Il ciclo while itera fintanto che una condizione è vera:"
   ]
  },
  {
   "cell_type": "code",
   "execution_count": 119,
   "metadata": {},
   "outputs": [
    {
     "name": "stdout",
     "output_type": "stream",
     "text": [
      "60\n",
      "50\n",
      "40\n",
      "seq =  [10, 20, 30]\n"
     ]
    }
   ],
   "source": [
    "seq = [10, 20, 30, 40, 50, 60] # Rimuovi e stampa numeri da seq finchè ne rimangono solo 3\n",
    "while len(seq) > 3:\n",
    "     print(seq.pop())\n",
    "        \n",
    "print('seq = ', seq)        "
   ]
  },
  {
   "cell_type": "markdown",
   "metadata": {},
   "source": [
    "Possiamo notare che:\n",
    "\n",
    "* il ciclo while è introdotto dalla keyword **while**, seguita da una condizione (len(seq) > 3) e dai due punti (:);\n",
    "* dopo i due punti è presente un blocco di codice indentato (che può anche essere formato da più righe);\n",
    "* il ciclo while esegue il blocco di codice fintanto che la condizione è vera;\n",
    "* in questo caso rimuove e stampa gli elementi di seq fintanto che in seq ci sono più di 3 elementi;\n",
    "* una volta che la sequenza è rimasta con solo 3 elementi, la condizione len(seq) > 3 diventa falsa e il ciclo termina."
   ]
  },
  {
   "cell_type": "markdown",
   "metadata": {},
   "source": [
    "### 7.4 break e continue\n",
    "\n",
    "Python prevede 2 costrutti che possono essere usati nei cicli for e while:\n",
    "\n",
    "* **break**: interrompe il ciclo;\n",
    "* **continue**: interrompe l’iterazione corrente e procede alla successiva.\n",
    "\n",
    "Cercare un elemento in una lista e interrompiamo la ricerca appena trovimo l’elemento:"
   ]
  },
  {
   "cell_type": "code",
   "execution_count": 120,
   "metadata": {},
   "outputs": [
    {
     "name": "stdout",
     "output_type": "stream",
     "text": [
      "Sto controllando alpha\n",
      "Sto controllando beta\n",
      "Sto controllando gamma\n",
      "Elemento trovato!\n"
     ]
    }
   ],
   "source": [
    "seq = ['alpha', 'beta', 'gamma', 'delta']\n",
    "for elem in seq:\n",
    "    print('Sto controllando', elem)\n",
    "    if elem == 'gamma':\n",
    "        print('Elemento trovato!')\n",
    "        break  # elemento trovato, interrompi il ciclo"
   ]
  },
  {
   "cell_type": "markdown",
   "metadata": {},
   "source": [
    "“Saltiamo” le parole che hanno 5 lettere e scriviamo solo le altre:"
   ]
  },
  {
   "cell_type": "code",
   "execution_count": 121,
   "metadata": {},
   "outputs": [
    {
     "name": "stdout",
     "output_type": "stream",
     "text": [
      "beta\n"
     ]
    }
   ],
   "source": [
    "seq = ['alpha', 'beta', 'gamma', 'delta']\n",
    "for elem in seq:\n",
    "    if len(elem) == 5:\n",
    "        continue  # procedi all'elemento successivo\n",
    "    print(elem)\n"
   ]
  },
  {
   "cell_type": "code",
   "execution_count": null,
   "metadata": {},
   "outputs": [],
   "source": []
  },
  {
   "cell_type": "markdown",
   "metadata": {},
   "source": [
    "### 7.5 if / elif / else\n",
    "\n",
    "Questa struttura di controllo del flusso è if / elif / else condizionale e funziona come in qualsiasi altro linguaggio.\n",
    "Come per gli altri casi la sintassi prevede:\n",
    "\n",
    "* l'uso della keyword **if** sequita dalla condizione, dai due punti (:) e da un blocco di codice indentato che viene eseguito solo se la ndizione è vera\n",
    "* l'uso delle keyword **else** e **elsif** se le condizioni sono 2 o più."
   ]
  },
  {
   "cell_type": "code",
   "execution_count": 122,
   "metadata": {},
   "outputs": [
    {
     "name": "stdout",
     "output_type": "stream",
     "text": [
      "Older than ten.\n"
     ]
    }
   ],
   "source": [
    "# If/else funziona come ci si aspetta.\n",
    "age = 77\n",
    "\n",
    "if age >= 0 and age < 10:\n",
    "    print(\"Younger ten.\")\n",
    "elif age >= 10:\n",
    "    print(\"Older than ten.\")\n",
    "else:\n",
    "    print(\"wait what?\")"
   ]
  },
  {
   "cell_type": "code",
   "execution_count": 123,
   "metadata": {},
   "outputs": [
    {
     "name": "stdout",
     "output_type": "stream",
     "text": [
      "[0, 1, 2, 3, 4, 5, 6, 7, 8, 9]\n",
      "[0, 2, 4, 6, 8]\n",
      "[0, 2, 4, 6, 8]\n"
     ]
    }
   ],
   "source": [
    "# La comprensione delle liste è un buon modo per scrivere loop compatti.\n",
    "# È una cosa molto comune in Python\n",
    "\n",
    "a = list(range(10))\n",
    "print(a)\n",
    "b = [i for i in a if not i % 2]\n",
    "print(b)\n",
    "\n",
    "# Equivalant loop for b.\n",
    "b = []\n",
    "for i in a:\n",
    "    if not i % 2:\n",
    "        b.append(i)\n",
    "print(b)"
   ]
  },
  {
   "cell_type": "markdown",
   "metadata": {},
   "source": [
    "## 8. Messaggi di errore\n",
    "\n",
    "Sicuramente vi imbatterete in qualche messaggio di errore. È importante imparare a leggerli. L'ultima linea del messaggio di solito è quella più importante. Leggere a ritroso consente di risalire all'istruzione che ha generato l'errore. Se non riuscite a risolverlo potete sempre ricorrere a google digitando il messaggio di errore!"
   ]
  },
  {
   "cell_type": "code",
   "execution_count": 107,
   "metadata": {},
   "outputs": [
    {
     "ename": "NameError",
     "evalue": "global name 'something_else' is not defined",
     "output_type": "error",
     "traceback": [
      "\u001b[0;31m---------------------------------------------------------------------------\u001b[0m",
      "\u001b[0;31mNameError\u001b[0m                                 Traceback (most recent call last)",
      "\u001b[0;32m<ipython-input-107-19650079a448>\u001b[0m in \u001b[0;36m<module>\u001b[0;34m()\u001b[0m\n\u001b[1;32m      2\u001b[0m     \u001b[0;32mprint\u001b[0m\u001b[0;34m(\u001b[0m\u001b[0ma\u001b[0m \u001b[0;34m+\u001b[0m \u001b[0mb\u001b[0m \u001b[0;34m+\u001b[0m \u001b[0msomething_else\u001b[0m\u001b[0;34m)\u001b[0m\u001b[0;34m\u001b[0m\u001b[0m\n\u001b[1;32m      3\u001b[0m \u001b[0;34m\u001b[0m\u001b[0m\n\u001b[0;32m----> 4\u001b[0;31m \u001b[0mdo_something\u001b[0m\u001b[0;34m(\u001b[0m\u001b[0;36m1\u001b[0m\u001b[0;34m,\u001b[0m \u001b[0;36m2\u001b[0m\u001b[0;34m)\u001b[0m\u001b[0;34m\u001b[0m\u001b[0m\n\u001b[0m",
      "\u001b[0;32m<ipython-input-107-19650079a448>\u001b[0m in \u001b[0;36mdo_something\u001b[0;34m(a, b)\u001b[0m\n\u001b[1;32m      1\u001b[0m \u001b[0;32mdef\u001b[0m \u001b[0mdo_something\u001b[0m\u001b[0;34m(\u001b[0m\u001b[0ma\u001b[0m\u001b[0;34m,\u001b[0m \u001b[0mb\u001b[0m\u001b[0;34m)\u001b[0m\u001b[0;34m:\u001b[0m\u001b[0;34m\u001b[0m\u001b[0m\n\u001b[0;32m----> 2\u001b[0;31m     \u001b[0;32mprint\u001b[0m\u001b[0;34m(\u001b[0m\u001b[0ma\u001b[0m \u001b[0;34m+\u001b[0m \u001b[0mb\u001b[0m \u001b[0;34m+\u001b[0m \u001b[0msomething_else\u001b[0m\u001b[0;34m)\u001b[0m\u001b[0;34m\u001b[0m\u001b[0m\n\u001b[0m\u001b[1;32m      3\u001b[0m \u001b[0;34m\u001b[0m\u001b[0m\n\u001b[1;32m      4\u001b[0m \u001b[0mdo_something\u001b[0m\u001b[0;34m(\u001b[0m\u001b[0;36m1\u001b[0m\u001b[0;34m,\u001b[0m \u001b[0;36m2\u001b[0m\u001b[0;34m)\u001b[0m\u001b[0;34m\u001b[0m\u001b[0m\n",
      "\u001b[0;31mNameError\u001b[0m: global name 'something_else' is not defined"
     ]
    }
   ],
   "source": [
    "def do_something(a, b): \n",
    "    print(a + b + something_else)\n",
    "    \n",
    "do_something(1, 2)    "
   ]
  },
  {
   "cell_type": "markdown",
   "metadata": {},
   "source": [
    "## L'ecosistema Scientifico di Python\n",
    "\n",
    "[SciPy Stack](https://www.scipy.org/stackspec.html) costituisce praticamente la base per tutte le applicazioni di Python scientifico. Qui introdurremo rapidamente le tre librerie principali:\n",
    "\n",
    "* `NumPy`\n",
    "* `SciPy`\n",
    "* `Matplotlib`\n",
    "\n",
    "SciPy stack contiente in più anche `pandas` (libreria per l'analisi dei dati tabulari e di serie temporali) and `sympy` (pacchetto per la matematica simbolica), tutti e due molto utili ma che ometteremo in questo tutorial."
   ]
  },
  {
   "cell_type": "markdown",
   "metadata": {},
   "source": [
    "## 9. NumPy\n",
    "\n",
    "Ampie parti dell'ecosistema scientifico Python utilizzano NumPy, un pacchetto per il calcolo vettoriale di matrici N-dimensionali e funzioni utili per algebra lineare, trasformate di Fourier, numeri casuali e altre funzioni scientifiche di base."
   ]
  },
  {
   "cell_type": "code",
   "execution_count": 108,
   "metadata": {},
   "outputs": [
    {
     "name": "stdout",
     "output_type": "stream",
     "text": [
      "3333335000.001667\n"
     ]
    },
    {
     "name": "stderr",
     "output_type": "stream",
     "text": [
      "/Users/spina/anaconda2/lib/python2.7/site-packages/ipykernel_launcher.py:4: DeprecationWarning: object of type <type 'float'> cannot be safely interpreted as an integer.\n",
      "  after removing the cwd from sys.path.\n"
     ]
    }
   ],
   "source": [
    "import numpy as np\n",
    "\n",
    "# Create un vettore molto grande con 1 milione di campioni.\n",
    "x = np.linspace(start=0, stop=100, num=1E6, dtype=np.float64)\n",
    "\n",
    "# La maggior parte delle operazioni funziona per elemento.\n",
    "y = x ** 2\n",
    "\n",
    "# Uses C and Fortran under the hood for speed.\n",
    "print(y.sum())\n",
    "\n",
    "# FFT and inverse\n",
    "x = np.random.random(100)\n",
    "large_X = np.fft.fft(x)\n",
    "x = np.fft.ifft(large_X)"
   ]
  },
  {
   "cell_type": "markdown",
   "metadata": {},
   "source": [
    "## 10. SciPy\n",
    "\n",
    "`SciPy`, al contrario di `NumPy` che offre solo routine numeriche, contiene molte funzionalità aggiuntive necessarie per il lavoro scientifico. Per esempio solutori per equazioni differenziali di base, integrazione numerica e ottimizzazione, matrici sparse, routine di interpolazione, metodi di elaborazione del segnale e molte altre cose."
   ]
  },
  {
   "cell_type": "code",
   "execution_count": 109,
   "metadata": {},
   "outputs": [],
   "source": [
    "from scipy.interpolate import interp1d\n",
    "\n",
    "x = np.linspace(0, 10, num=11, endpoint=True)\n",
    "y = np.cos(-x ** 2 / 9.0)\n",
    "\n",
    "# Interpolazione spline cubica in nuovi punti.\n",
    "f2 = interp1d(x, y, kind='cubic')(np.linspace(0, 10, num=101, endpoint=True))"
   ]
  },
  {
   "cell_type": "markdown",
   "metadata": {},
   "source": [
    "## 11. Matplotlib\n",
    "\n",
    "Per fare i plot si usa `Matplotlib`, un pacchetto per realizzare plot statici di alta qualità. Ha un'interfaccia che imita Matlab con cui molte persone hanno familiarità."
   ]
  },
  {
   "cell_type": "code",
   "execution_count": 110,
   "metadata": {},
   "outputs": [
    {
     "data": {
      "image/png": "[encoded data removed]",
      "text/plain": [
       "<Figure size 432x288 with 1 Axes>"
      ]
     },
     "metadata": {},
     "output_type": "display_data"
    }
   ],
   "source": [
    "import matplotlib.pyplot as plt\n",
    "\n",
    "plt.plot(np.sin(np.linspace(0, 2 * np.pi, 2000)), color=\"green\",\n",
    "         label=\"Some Curve\")\n",
    "plt.legend()\n",
    "plt.ylim(-1.1, 1.1)\n",
    "plt.show()"
   ]
  },
  {
   "cell_type": "markdown",
   "metadata": {},
   "source": [
    "## Exercizi\n",
    "#### Functioni, NumPy, e Matplotlib\n",
    "\n",
    "A. Scrivi una funzione che accetta un NumPy array `x` e `a`, `b`, e `c` e ritorna\n",
    "\n",
    "$$\n",
    "f(x) = a x^2 + b x + c\n",
    "$$\n",
    "\n",
    "B. Visualizza il risultato diq uesta funzione con matplotlib."
   ]
  },
  {
   "cell_type": "code",
   "execution_count": null,
   "metadata": {},
   "outputs": [],
   "source": []
  },
  {
   "cell_type": "markdown",
   "metadata": {},
   "source": [
    "#### 99 Bottiglie di Birra\n",
    "\n",
    "*(rubato da http://www.ling.gu.se/~lager/python_exercises.html)*\n",
    "\n",
    "\n",
    "\"99 Bottiglie di Berra\" è una canzone tradizionale negli Stati Uniti e in Canada. È cantata nei viaggi lunghi, poiché ha un formato molto ripetitivo facile da memorizzare ed è lunga da cantare. I testi semplici della canzone sono i seguenti:\n",
    "\n",
    "```\n",
    "99 bottiglie di birra sul muro, 99 bottiglie di birra.\n",
    "Prendine una, passala, 98 bottiglie di birra sul muro.\n",
    "```\n",
    "\n",
    "Lo stesso versetto è ripetuto, ogni volta con una bottiglia in meno. La canzone termina quando il cantante o i cantanti raggiungono lo zero.\n",
    "\n",
    "Il tuo compito qui è scrivere un programma Python in grado di generare tutti i versi della canzone."
   ]
  },
  {
   "cell_type": "code",
   "execution_count": null,
   "metadata": {},
   "outputs": [],
   "source": []
  },
  {
   "cell_type": "markdown",
   "metadata": {},
   "source": [
    "#### Il codice Cesare\n",
    "\n",
    "*(rubato da http://www.ling.gu.se/~lager/python_exercises.html)*\n",
    "\n",
    "Nella crittografia, un codice Caesar è una tecnica di crittografia molto semplice in cui ogni lettera nel testo è sostituita da una lettera spostata di un numero fisso di posizioni in basso nell'alfabeto. Ad esempio, con uno spostamento di 3 posizioni, A verrà sostituito da D, B diventerà E e così via. Il metodo prende il nome da Julius Caesar, che lo usava per comunicare con i suoi generali. ROT-13 (\"ruota di 13 posizioni\") è un esempio ampiamente utilizzato di un codice Caesar in cui lo spostamento è 13. In Python, la chiave per ROT-13 può essere rappresentata mediante il seguente dizionario:\n",
    "\n",
    "```python\n",
    "key = {'a':'n', 'b':'o', 'c':'p', 'd':'q', 'e':'r', 'f':'s', 'g':'t', 'h':'u', \n",
    "       'i':'v', 'j':'w', 'k':'x', 'l':'y', 'm':'z', 'n':'a', 'o':'b', 'p':'c', \n",
    "       'q':'d', 'r':'e', 's':'f', 't':'g', 'u':'h', 'v':'i', 'w':'j', 'x':'k',\n",
    "       'y':'l', 'z':'m', 'A':'N', 'B':'O', 'C':'P', 'D':'Q', 'E':'R', 'F':'S', \n",
    "       'G':'T', 'H':'U', 'I':'V', 'J':'W', 'K':'X', 'L':'Y', 'M':'Z', 'N':'A', \n",
    "       'O':'B', 'P':'C', 'Q':'D', 'R':'E', 'S':'F', 'T':'G', 'U':'H', 'V':'I', \n",
    "       'W':'J', 'X':'K', 'Y':'L', 'Z':'M'}\n",
    "```\n",
    "\n",
    "Il tuo compito in questo esercizio è implementare un decodificatore di ROT-13. Una volta che hai finito, sarai in grado di leggere il seguente messaggio segreto:\n",
    "\n",
    "```\n",
    "Pnrfne pvcure? V zhpu cersre Pnrfne fnynq!\n",
    "```\n",
    "\n",
    "**BONUS:** Scrivi un codificatore!"
   ]
  },
  {
   "cell_type": "code",
   "execution_count": 111,
   "metadata": {},
   "outputs": [],
   "source": [
    "key = {'a':'n', 'b':'o', 'c':'p', 'd':'q', 'e':'r', 'f':'s', 'g':'t', 'h':'u', \n",
    "       'i':'v', 'j':'w', 'k':'x', 'l':'y', 'm':'z', 'n':'a', 'o':'b', 'p':'c', \n",
    "       'q':'d', 'r':'e', 's':'f', 't':'g', 'u':'h', 'v':'i', 'w':'j', 'x':'k',\n",
    "       'y':'l', 'z':'m', 'A':'N', 'B':'O', 'C':'P', 'D':'Q', 'E':'R', 'F':'S', \n",
    "       'G':'T', 'H':'U', 'I':'V', 'J':'W', 'K':'X', 'L':'Y', 'M':'Z', 'N':'A', \n",
    "       'O':'B', 'P':'C', 'Q':'D', 'R':'E', 'S':'F', 'T':'G', 'U':'H', 'V':'I', \n",
    "       'W':'J', 'X':'K', 'Y':'L', 'Z':'M'}"
   ]
  },
  {
   "cell_type": "code",
   "execution_count": null,
   "metadata": {},
   "outputs": [],
   "source": []
  },
  {
   "cell_type": "code",
   "execution_count": null,
   "metadata": {},
   "outputs": [],
   "source": []
  }
 ],
 "metadata": {
  "kernelspec": {
   "display_name": "Python 2",
   "language": "python",
   "name": "python2"
  },
  "language_info": {
   "codemirror_mode": {
    "name": "ipython",
    "version": 2
   },
   "file_extension": ".py",
   "mimetype": "text/x-python",
   "name": "python",
   "nbconvert_exporter": "python",
   "pygments_lexer": "ipython2",
   "version": "2.7.14"
  }
 },
 "nbformat": 4,
 "nbformat_minor": 1
}
